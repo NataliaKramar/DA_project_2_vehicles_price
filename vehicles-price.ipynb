{
 "cells": [
  {
   "cell_type": "markdown",
   "metadata": {},
   "source": [
    "<div style=\"border:solid black 2px; padding: 20px\">\n",
    "<b>Hello!</b>\n",
    "    \n",
    "My name is Polina Berezhnaia, and I'm gonna review your project on Exploratory Data Analysis.\n",
    "\n",
    "I enjoyed checking your project a lot! It is clear that you put a lot of effort into this work and did your best to complete everything in a perfect manner. The notebook showed your good coding skills and deep understanding of the topic 🔥. However, there are several issues to consider and improve. \n",
    "    \n",
    "In the notebook, you can find 4 types of my comments:\n",
    "- <div class=\"alert alert-danger\">\n",
    "  <h3>Reviewer's comment</h3> It is necessary to make some corrections otherwise the project will not be accepted.\n",
    "  </div>\n",
    "    \n",
    "    \n",
    "- <div class=\"alert alert-warning\">\n",
    "  <h3>Reviewer's comment</h3> Such comment is some kind of recommendation on future improvements. It is up to you whether you wanna do any extra work or not.\n",
    "  </div>\n",
    "    \n",
    "    \n",
    "- <div class=\"alert alert-success\">\n",
    "  <h3>Reviewer's comment</h3> You will find such comments when everything is done in a perfect way.\n",
    "  </div>\n",
    "    \n",
    "    \n",
    "- <div style=\"border:solid black 2px; padding: 20px\">\n",
    "  <h3>Checklist</h3> Such comment can be found in the end of the notebook and depicts adjustments required.\n",
    "  </div>\n",
    "\n",
    "Let's work on this project in a form of the dialogue. If you **change or add something**, it would be great to **highlight a change** somehow. Also I would ask you **not to move, change or delete** my comments. All these will help to complete the next review much faster.\n",
    "    \n",
    "No worries if you didn't manage to complete some task on the first attempt. The main goal of our team is not to find mistakes, but to share our experience and help you to master your analytical skills 🙂\n",
    "    \n",
    "I'm looking forward to seeing your perfect project next time! I'm sure you're gonna be fine!\n",
    "\n",
    "</div>\n"
   ]
  },
  {
   "cell_type": "markdown",
   "metadata": {},
   "source": [
    "<div class=\"alert alert-success\">\n",
    "  Hello, Polina! Thank you for your friendly review and advices how to improve the project. It was very interesting to work with it. My answers and what I fixed I marked next to your comments during the project.\n",
    "  </div>"
   ]
  },
  {
   "cell_type": "markdown",
   "metadata": {},
   "source": [
    "<div style=\"border:solid black 2px; padding: 20px\">\n",
    "<b>Hello there!</b>\n",
    "    \n",
    "You fixed all the issues and did a great job! I appreciate you put a lot of effort into this project, participated in discussion and were very enthusiastic! You are a very promising student, thank you for trying to do your best :)\n",
    "    \n",
    "I wish you good luck, and hope you will become a professional analyst very soon!"
   ]
  },
  {
   "cell_type": "markdown",
   "metadata": {},
   "source": [
    "# Research on car sales ads\n",
    "\n",
    "You're an analyst at Crankshaft List. Hundreds of free advertisements for vehicles are published on your site every day.\n",
    "\n",
    "You need to study data collected over the last few years and determine which factors influence the price of a vehicle. "
   ]
  },
  {
   "cell_type": "markdown",
   "metadata": {},
   "source": [
    "## Table of contents:\n",
    "- [**STEP 1. Open the data file and have a look at the general information.**](#first-step)\n",
    "- [**STEP 2. Data prepricessing**](#second-step)\n",
    "- [**STEP 3. Make calculations and add them to the table**](#third-step)\n",
    "- [**STEP 4. Carry out exploratory data analysis**](#forth-step)\n",
    "- [**STEP 5. Overall conclusion**](#fifth-step)"
   ]
  },
  {
   "cell_type": "markdown",
   "metadata": {},
   "source": [
    "<div class=\"alert alert-success\">\n",
    "<h3>Reviewer's comment</h3>\n",
    "    \n",
    "It is great you added a description of the task and the table of contents. This helps to navigate a new user through your project effectively :)"
   ]
  },
  {
   "cell_type": "markdown",
   "metadata": {},
   "source": [
    "### Step 1. Open the data file and study the general information. <a class=\"anchor\" id=\"first-step\"></a>"
   ]
  },
  {
   "cell_type": "code",
   "execution_count": 1,
   "metadata": {},
   "outputs": [
    {
     "name": "stdout",
     "output_type": "stream",
     "text": [
      "   price  model_year           model  condition  cylinders fuel  odometer  \\\n",
      "0   9400      2011.0          bmw x5       good        6.0  gas  145000.0   \n",
      "1  25500         NaN      ford f-150       good        6.0  gas   88705.0   \n",
      "2   5500      2013.0  hyundai sonata   like new        4.0  gas  110000.0   \n",
      "3   1500      2003.0      ford f-150       fair        8.0  gas       NaN   \n",
      "4  14900      2017.0    chrysler 200  excellent        4.0  gas   80903.0   \n",
      "5  14990      2014.0    chrysler 300  excellent        6.0  gas   57954.0   \n",
      "6  12990      2015.0    toyota camry  excellent        4.0  gas   79212.0   \n",
      "7  15990      2013.0     honda pilot  excellent        6.0  gas  109473.0   \n",
      "8  11500      2012.0     kia sorento  excellent        4.0  gas  104174.0   \n",
      "9   9200      2008.0     honda pilot  excellent        NaN  gas  147191.0   \n",
      "\n",
      "  transmission    type paint_color  is_4wd date_posted  days_listed  \n",
      "0    automatic     SUV         NaN     1.0  2018-06-23           19  \n",
      "1    automatic  pickup       white     1.0  2018-10-19           50  \n",
      "2    automatic   sedan         red     NaN  2019-02-07           79  \n",
      "3    automatic  pickup         NaN     NaN  2019-03-22            9  \n",
      "4    automatic   sedan       black     NaN  2019-04-02           28  \n",
      "5    automatic   sedan       black     1.0  2018-06-20           15  \n",
      "6    automatic   sedan       white     NaN  2018-12-27           73  \n",
      "7    automatic     SUV       black     1.0  2019-01-07           68  \n",
      "8    automatic     SUV         NaN     1.0  2018-07-16           19  \n",
      "9    automatic     SUV        blue     1.0  2019-02-15           17  \n",
      "<class 'pandas.core.frame.DataFrame'>\n",
      "RangeIndex: 51525 entries, 0 to 51524\n",
      "Data columns (total 13 columns):\n",
      "price           51525 non-null int64\n",
      "model_year      47906 non-null float64\n",
      "model           51525 non-null object\n",
      "condition       51525 non-null object\n",
      "cylinders       46265 non-null float64\n",
      "fuel            51525 non-null object\n",
      "odometer        43633 non-null float64\n",
      "transmission    51525 non-null object\n",
      "type            51525 non-null object\n",
      "paint_color     42258 non-null object\n",
      "is_4wd          25572 non-null float64\n",
      "date_posted     51525 non-null object\n",
      "days_listed     51525 non-null int64\n",
      "dtypes: float64(4), int64(2), object(7)\n",
      "memory usage: 5.1+ MB\n",
      "None\n"
     ]
    }
   ],
   "source": [
    "import pandas as pd\n",
    "import matplotlib.pyplot as plt\n",
    "import numpy as np\n",
    "\n",
    "data_vehicles = pd.read_csv('/datasets/vehicles_us.csv')\n",
    "print(data_vehicles.head(10))\n",
    "print(data_vehicles.info())"
   ]
  },
  {
   "cell_type": "code",
   "execution_count": 2,
   "metadata": {
    "scrolled": true
   },
   "outputs": [
    {
     "data": {
      "text/plain": [
       "(51525, 13)"
      ]
     },
     "execution_count": 2,
     "metadata": {},
     "output_type": "execute_result"
    }
   ],
   "source": [
    "data_vehicles.shape"
   ]
  },
  {
   "cell_type": "code",
   "execution_count": 3,
   "metadata": {},
   "outputs": [
    {
     "data": {
      "text/plain": [
       "price               0\n",
       "model_year       3619\n",
       "model               0\n",
       "condition           0\n",
       "cylinders        5260\n",
       "fuel                0\n",
       "odometer         7892\n",
       "transmission        0\n",
       "type                0\n",
       "paint_color      9267\n",
       "is_4wd          25953\n",
       "date_posted         0\n",
       "days_listed         0\n",
       "dtype: int64"
      ]
     },
     "execution_count": 3,
     "metadata": {},
     "output_type": "execute_result"
    }
   ],
   "source": [
    "data_vehicles.isnull().sum()"
   ]
  },
  {
   "cell_type": "code",
   "execution_count": 4,
   "metadata": {},
   "outputs": [
    {
     "data": {
      "text/plain": [
       "price            0.000000\n",
       "model_year       7.023775\n",
       "model            0.000000\n",
       "condition        0.000000\n",
       "cylinders       10.208637\n",
       "fuel             0.000000\n",
       "odometer        15.316836\n",
       "transmission     0.000000\n",
       "type             0.000000\n",
       "paint_color     17.985444\n",
       "is_4wd          50.369723\n",
       "date_posted      0.000000\n",
       "days_listed      0.000000\n",
       "dtype: float64"
      ]
     },
     "execution_count": 4,
     "metadata": {},
     "output_type": "execute_result"
    }
   ],
   "source": [
    "# Percentage of missing values\n",
    "100*data_vehicles.isnull().sum()/data_vehicles.shape[0]"
   ]
  },
  {
   "cell_type": "markdown",
   "metadata": {},
   "source": [
    "### Conclusion"
   ]
  },
  {
   "cell_type": "markdown",
   "metadata": {},
   "source": [
    "The table consists of 13 columns and 51525 lines. \n",
    "Data contains columns with null values: model_year, cylinders, odometer, paint_color, is_4wd. Missing values in the column is_4wd are 50%.\n",
    "The part of the columns have data type float, that is requered convertion."
   ]
  },
  {
   "cell_type": "markdown",
   "metadata": {},
   "source": [
    "<div class=\"alert alert-success\">\n",
    "<h3>Reviewer's comment</h3>\n",
    "    \n",
    "Great data quality analysis 👍🏻\n",
    "    \n",
    "It is also worth checking the dataset for duplicates."
   ]
  },
  {
   "cell_type": "markdown",
   "metadata": {},
   "source": [
    "### Step 2. Data preprocessing <a class=\"anchor\" id=\"second-step\"></a>"
   ]
  },
  {
   "cell_type": "markdown",
   "metadata": {},
   "source": [
    "<div class=\"alert alert-danger\">\n",
    "<h3>Reviewer's comment</h3>\n",
    "    \n",
    "The general recommendation is to move the text from code cells to markdown cells. It is better to use comments in code cells for some technical notes (as you mostly did), and show all other conclusions in markdown cells."
   ]
  },
  {
   "cell_type": "markdown",
   "metadata": {},
   "source": [
    "<div class=\"alert alert-success\">\n",
    "  <h3>Answer</h3> Fixed.\n",
    "  </div>"
   ]
  },
  {
   "cell_type": "markdown",
   "metadata": {},
   "source": [
    "<div class=\"alert alert-success\">\n",
    "<h3>Reviewer's comment v2</h3>\n",
    "    \n",
    "👍🏻"
   ]
  },
  {
   "cell_type": "code",
   "execution_count": 5,
   "metadata": {
    "scrolled": false
   },
   "outputs": [
    {
     "data": {
      "text/html": [
       "<div>\n",
       "<style scoped>\n",
       "    .dataframe tbody tr th:only-of-type {\n",
       "        vertical-align: middle;\n",
       "    }\n",
       "\n",
       "    .dataframe tbody tr th {\n",
       "        vertical-align: top;\n",
       "    }\n",
       "\n",
       "    .dataframe thead th {\n",
       "        text-align: right;\n",
       "    }\n",
       "</style>\n",
       "<table border=\"1\" class=\"dataframe\">\n",
       "  <thead>\n",
       "    <tr style=\"text-align: right;\">\n",
       "      <th></th>\n",
       "      <th>price</th>\n",
       "      <th>model_year</th>\n",
       "      <th>model</th>\n",
       "      <th>condition</th>\n",
       "      <th>cylinders</th>\n",
       "      <th>fuel</th>\n",
       "      <th>odometer</th>\n",
       "      <th>transmission</th>\n",
       "      <th>type</th>\n",
       "      <th>paint_color</th>\n",
       "      <th>is_4wd</th>\n",
       "      <th>date_posted</th>\n",
       "      <th>days_listed</th>\n",
       "    </tr>\n",
       "  </thead>\n",
       "  <tbody>\n",
       "    <tr>\n",
       "      <td>1</td>\n",
       "      <td>25500</td>\n",
       "      <td>NaN</td>\n",
       "      <td>ford f-150</td>\n",
       "      <td>good</td>\n",
       "      <td>6.0</td>\n",
       "      <td>gas</td>\n",
       "      <td>88705.0</td>\n",
       "      <td>automatic</td>\n",
       "      <td>pickup</td>\n",
       "      <td>white</td>\n",
       "      <td>1.0</td>\n",
       "      <td>2018-10-19</td>\n",
       "      <td>50</td>\n",
       "    </tr>\n",
       "    <tr>\n",
       "      <td>20</td>\n",
       "      <td>6990</td>\n",
       "      <td>NaN</td>\n",
       "      <td>chevrolet tahoe</td>\n",
       "      <td>excellent</td>\n",
       "      <td>8.0</td>\n",
       "      <td>gas</td>\n",
       "      <td>147485.0</td>\n",
       "      <td>automatic</td>\n",
       "      <td>SUV</td>\n",
       "      <td>silver</td>\n",
       "      <td>1.0</td>\n",
       "      <td>2018-08-05</td>\n",
       "      <td>28</td>\n",
       "    </tr>\n",
       "    <tr>\n",
       "      <td>65</td>\n",
       "      <td>12800</td>\n",
       "      <td>NaN</td>\n",
       "      <td>ford f-150</td>\n",
       "      <td>excellent</td>\n",
       "      <td>6.0</td>\n",
       "      <td>gas</td>\n",
       "      <td>108500.0</td>\n",
       "      <td>automatic</td>\n",
       "      <td>pickup</td>\n",
       "      <td>white</td>\n",
       "      <td>NaN</td>\n",
       "      <td>2018-09-23</td>\n",
       "      <td>15</td>\n",
       "    </tr>\n",
       "    <tr>\n",
       "      <td>69</td>\n",
       "      <td>7800</td>\n",
       "      <td>NaN</td>\n",
       "      <td>ford f-150</td>\n",
       "      <td>like new</td>\n",
       "      <td>8.0</td>\n",
       "      <td>gas</td>\n",
       "      <td>97510.0</td>\n",
       "      <td>automatic</td>\n",
       "      <td>truck</td>\n",
       "      <td>white</td>\n",
       "      <td>1.0</td>\n",
       "      <td>2019-02-20</td>\n",
       "      <td>39</td>\n",
       "    </tr>\n",
       "    <tr>\n",
       "      <td>72</td>\n",
       "      <td>3650</td>\n",
       "      <td>NaN</td>\n",
       "      <td>subaru impreza</td>\n",
       "      <td>excellent</td>\n",
       "      <td>NaN</td>\n",
       "      <td>gas</td>\n",
       "      <td>74000.0</td>\n",
       "      <td>automatic</td>\n",
       "      <td>sedan</td>\n",
       "      <td>blue</td>\n",
       "      <td>1.0</td>\n",
       "      <td>2018-08-07</td>\n",
       "      <td>60</td>\n",
       "    </tr>\n",
       "  </tbody>\n",
       "</table>\n",
       "</div>"
      ],
      "text/plain": [
       "    price  model_year            model  condition  cylinders fuel  odometer  \\\n",
       "1   25500         NaN       ford f-150       good        6.0  gas   88705.0   \n",
       "20   6990         NaN  chevrolet tahoe  excellent        8.0  gas  147485.0   \n",
       "65  12800         NaN       ford f-150  excellent        6.0  gas  108500.0   \n",
       "69   7800         NaN       ford f-150   like new        8.0  gas   97510.0   \n",
       "72   3650         NaN   subaru impreza  excellent        NaN  gas   74000.0   \n",
       "\n",
       "   transmission    type paint_color  is_4wd date_posted  days_listed  \n",
       "1     automatic  pickup       white     1.0  2018-10-19           50  \n",
       "20    automatic     SUV      silver     1.0  2018-08-05           28  \n",
       "65    automatic  pickup       white     NaN  2018-09-23           15  \n",
       "69    automatic   truck       white     1.0  2019-02-20           39  \n",
       "72    automatic   sedan        blue     1.0  2018-08-07           60  "
      ]
     },
     "execution_count": 5,
     "metadata": {},
     "output_type": "execute_result"
    }
   ],
   "source": [
    "data_vehicles.query('model_year.isnull()').head(5)"
   ]
  },
  {
   "cell_type": "markdown",
   "metadata": {},
   "source": [
    "We inspected rows with missing values in the column Model_year (no correlation with any other column).\n",
    "No obvious fix for missing values."
   ]
  },
  {
   "cell_type": "code",
   "execution_count": 6,
   "metadata": {
    "scrolled": true
   },
   "outputs": [
    {
     "data": {
      "text/html": [
       "<div>\n",
       "<style scoped>\n",
       "    .dataframe tbody tr th:only-of-type {\n",
       "        vertical-align: middle;\n",
       "    }\n",
       "\n",
       "    .dataframe tbody tr th {\n",
       "        vertical-align: top;\n",
       "    }\n",
       "\n",
       "    .dataframe thead th {\n",
       "        text-align: right;\n",
       "    }\n",
       "</style>\n",
       "<table border=\"1\" class=\"dataframe\">\n",
       "  <thead>\n",
       "    <tr style=\"text-align: right;\">\n",
       "      <th></th>\n",
       "      <th>price</th>\n",
       "      <th>model_year</th>\n",
       "      <th>model</th>\n",
       "      <th>condition</th>\n",
       "      <th>cylinders</th>\n",
       "      <th>fuel</th>\n",
       "      <th>odometer</th>\n",
       "      <th>transmission</th>\n",
       "      <th>type</th>\n",
       "      <th>paint_color</th>\n",
       "      <th>is_4wd</th>\n",
       "      <th>date_posted</th>\n",
       "      <th>days_listed</th>\n",
       "    </tr>\n",
       "  </thead>\n",
       "  <tbody>\n",
       "    <tr>\n",
       "      <td>9</td>\n",
       "      <td>9200</td>\n",
       "      <td>2008.0</td>\n",
       "      <td>honda pilot</td>\n",
       "      <td>excellent</td>\n",
       "      <td>NaN</td>\n",
       "      <td>gas</td>\n",
       "      <td>147191.0</td>\n",
       "      <td>automatic</td>\n",
       "      <td>SUV</td>\n",
       "      <td>blue</td>\n",
       "      <td>1.0</td>\n",
       "      <td>2019-02-15</td>\n",
       "      <td>17</td>\n",
       "    </tr>\n",
       "    <tr>\n",
       "      <td>36</td>\n",
       "      <td>10499</td>\n",
       "      <td>2013.0</td>\n",
       "      <td>chrysler 300</td>\n",
       "      <td>good</td>\n",
       "      <td>NaN</td>\n",
       "      <td>gas</td>\n",
       "      <td>88042.0</td>\n",
       "      <td>automatic</td>\n",
       "      <td>sedan</td>\n",
       "      <td>NaN</td>\n",
       "      <td>NaN</td>\n",
       "      <td>2018-05-05</td>\n",
       "      <td>22</td>\n",
       "    </tr>\n",
       "    <tr>\n",
       "      <td>37</td>\n",
       "      <td>7500</td>\n",
       "      <td>2005.0</td>\n",
       "      <td>toyota tacoma</td>\n",
       "      <td>good</td>\n",
       "      <td>NaN</td>\n",
       "      <td>gas</td>\n",
       "      <td>160000.0</td>\n",
       "      <td>automatic</td>\n",
       "      <td>pickup</td>\n",
       "      <td>NaN</td>\n",
       "      <td>NaN</td>\n",
       "      <td>2018-07-22</td>\n",
       "      <td>44</td>\n",
       "    </tr>\n",
       "    <tr>\n",
       "      <td>59</td>\n",
       "      <td>5200</td>\n",
       "      <td>2006.0</td>\n",
       "      <td>toyota highlander</td>\n",
       "      <td>good</td>\n",
       "      <td>NaN</td>\n",
       "      <td>gas</td>\n",
       "      <td>186000.0</td>\n",
       "      <td>automatic</td>\n",
       "      <td>SUV</td>\n",
       "      <td>green</td>\n",
       "      <td>NaN</td>\n",
       "      <td>2018-12-20</td>\n",
       "      <td>2</td>\n",
       "    </tr>\n",
       "    <tr>\n",
       "      <td>63</td>\n",
       "      <td>30000</td>\n",
       "      <td>1966.0</td>\n",
       "      <td>ford mustang</td>\n",
       "      <td>excellent</td>\n",
       "      <td>NaN</td>\n",
       "      <td>gas</td>\n",
       "      <td>51000.0</td>\n",
       "      <td>manual</td>\n",
       "      <td>convertible</td>\n",
       "      <td>red</td>\n",
       "      <td>NaN</td>\n",
       "      <td>2019-01-23</td>\n",
       "      <td>17</td>\n",
       "    </tr>\n",
       "  </tbody>\n",
       "</table>\n",
       "</div>"
      ],
      "text/plain": [
       "    price  model_year              model  condition  cylinders fuel  odometer  \\\n",
       "9    9200      2008.0        honda pilot  excellent        NaN  gas  147191.0   \n",
       "36  10499      2013.0       chrysler 300       good        NaN  gas   88042.0   \n",
       "37   7500      2005.0      toyota tacoma       good        NaN  gas  160000.0   \n",
       "59   5200      2006.0  toyota highlander       good        NaN  gas  186000.0   \n",
       "63  30000      1966.0       ford mustang  excellent        NaN  gas   51000.0   \n",
       "\n",
       "   transmission         type paint_color  is_4wd date_posted  days_listed  \n",
       "9     automatic          SUV        blue     1.0  2019-02-15           17  \n",
       "36    automatic        sedan         NaN     NaN  2018-05-05           22  \n",
       "37    automatic       pickup         NaN     NaN  2018-07-22           44  \n",
       "59    automatic          SUV       green     NaN  2018-12-20            2  \n",
       "63       manual  convertible         red     NaN  2019-01-23           17  "
      ]
     },
     "execution_count": 6,
     "metadata": {},
     "output_type": "execute_result"
    }
   ],
   "source": [
    "data_vehicles.query('cylinders.isnull()').head(5)"
   ]
  },
  {
   "cell_type": "markdown",
   "metadata": {},
   "source": [
    "We inspected rows with missing values in the column cylinders (no correlation with any other column).\n",
    "No obvious fix for missing values."
   ]
  },
  {
   "cell_type": "code",
   "execution_count": 7,
   "metadata": {
    "scrolled": true
   },
   "outputs": [
    {
     "data": {
      "text/html": [
       "<div>\n",
       "<style scoped>\n",
       "    .dataframe tbody tr th:only-of-type {\n",
       "        vertical-align: middle;\n",
       "    }\n",
       "\n",
       "    .dataframe tbody tr th {\n",
       "        vertical-align: top;\n",
       "    }\n",
       "\n",
       "    .dataframe thead th {\n",
       "        text-align: right;\n",
       "    }\n",
       "</style>\n",
       "<table border=\"1\" class=\"dataframe\">\n",
       "  <thead>\n",
       "    <tr style=\"text-align: right;\">\n",
       "      <th></th>\n",
       "      <th>price</th>\n",
       "      <th>model_year</th>\n",
       "      <th>model</th>\n",
       "      <th>condition</th>\n",
       "      <th>cylinders</th>\n",
       "      <th>fuel</th>\n",
       "      <th>odometer</th>\n",
       "      <th>transmission</th>\n",
       "      <th>type</th>\n",
       "      <th>paint_color</th>\n",
       "      <th>is_4wd</th>\n",
       "      <th>date_posted</th>\n",
       "      <th>days_listed</th>\n",
       "    </tr>\n",
       "  </thead>\n",
       "  <tbody>\n",
       "    <tr>\n",
       "      <td>3</td>\n",
       "      <td>1500</td>\n",
       "      <td>2003.0</td>\n",
       "      <td>ford f-150</td>\n",
       "      <td>fair</td>\n",
       "      <td>8.0</td>\n",
       "      <td>gas</td>\n",
       "      <td>NaN</td>\n",
       "      <td>automatic</td>\n",
       "      <td>pickup</td>\n",
       "      <td>NaN</td>\n",
       "      <td>NaN</td>\n",
       "      <td>2019-03-22</td>\n",
       "      <td>9</td>\n",
       "    </tr>\n",
       "    <tr>\n",
       "      <td>15</td>\n",
       "      <td>17990</td>\n",
       "      <td>2013.0</td>\n",
       "      <td>ram 1500</td>\n",
       "      <td>excellent</td>\n",
       "      <td>8.0</td>\n",
       "      <td>gas</td>\n",
       "      <td>NaN</td>\n",
       "      <td>automatic</td>\n",
       "      <td>pickup</td>\n",
       "      <td>red</td>\n",
       "      <td>1.0</td>\n",
       "      <td>2018-05-15</td>\n",
       "      <td>111</td>\n",
       "    </tr>\n",
       "    <tr>\n",
       "      <td>23</td>\n",
       "      <td>7500</td>\n",
       "      <td>2004.0</td>\n",
       "      <td>jeep wrangler</td>\n",
       "      <td>good</td>\n",
       "      <td>6.0</td>\n",
       "      <td>gas</td>\n",
       "      <td>NaN</td>\n",
       "      <td>automatic</td>\n",
       "      <td>SUV</td>\n",
       "      <td>red</td>\n",
       "      <td>1.0</td>\n",
       "      <td>2018-05-17</td>\n",
       "      <td>39</td>\n",
       "    </tr>\n",
       "    <tr>\n",
       "      <td>24</td>\n",
       "      <td>3950</td>\n",
       "      <td>2009.0</td>\n",
       "      <td>chrysler 200</td>\n",
       "      <td>excellent</td>\n",
       "      <td>4.0</td>\n",
       "      <td>gas</td>\n",
       "      <td>NaN</td>\n",
       "      <td>automatic</td>\n",
       "      <td>sedan</td>\n",
       "      <td>red</td>\n",
       "      <td>NaN</td>\n",
       "      <td>2018-06-11</td>\n",
       "      <td>40</td>\n",
       "    </tr>\n",
       "    <tr>\n",
       "      <td>25</td>\n",
       "      <td>11499</td>\n",
       "      <td>2017.0</td>\n",
       "      <td>chevrolet malibu</td>\n",
       "      <td>like new</td>\n",
       "      <td>4.0</td>\n",
       "      <td>gas</td>\n",
       "      <td>NaN</td>\n",
       "      <td>automatic</td>\n",
       "      <td>sedan</td>\n",
       "      <td>NaN</td>\n",
       "      <td>NaN</td>\n",
       "      <td>2018-07-26</td>\n",
       "      <td>43</td>\n",
       "    </tr>\n",
       "  </tbody>\n",
       "</table>\n",
       "</div>"
      ],
      "text/plain": [
       "    price  model_year             model  condition  cylinders fuel  odometer  \\\n",
       "3    1500      2003.0        ford f-150       fair        8.0  gas       NaN   \n",
       "15  17990      2013.0          ram 1500  excellent        8.0  gas       NaN   \n",
       "23   7500      2004.0     jeep wrangler       good        6.0  gas       NaN   \n",
       "24   3950      2009.0      chrysler 200  excellent        4.0  gas       NaN   \n",
       "25  11499      2017.0  chevrolet malibu   like new        4.0  gas       NaN   \n",
       "\n",
       "   transmission    type paint_color  is_4wd date_posted  days_listed  \n",
       "3     automatic  pickup         NaN     NaN  2019-03-22            9  \n",
       "15    automatic  pickup         red     1.0  2018-05-15          111  \n",
       "23    automatic     SUV         red     1.0  2018-05-17           39  \n",
       "24    automatic   sedan         red     NaN  2018-06-11           40  \n",
       "25    automatic   sedan         NaN     NaN  2018-07-26           43  "
      ]
     },
     "execution_count": 7,
     "metadata": {},
     "output_type": "execute_result"
    }
   ],
   "source": [
    "data_vehicles.query('odometer.isnull()').head(5)"
   ]
  },
  {
   "cell_type": "markdown",
   "metadata": {},
   "source": [
    "We inspected rows with missing values in the column odometer (no correlation with any other column).\n",
    "No obvious fix for missing values."
   ]
  },
  {
   "cell_type": "code",
   "execution_count": 8,
   "metadata": {
    "scrolled": false
   },
   "outputs": [
    {
     "data": {
      "text/html": [
       "<div>\n",
       "<style scoped>\n",
       "    .dataframe tbody tr th:only-of-type {\n",
       "        vertical-align: middle;\n",
       "    }\n",
       "\n",
       "    .dataframe tbody tr th {\n",
       "        vertical-align: top;\n",
       "    }\n",
       "\n",
       "    .dataframe thead th {\n",
       "        text-align: right;\n",
       "    }\n",
       "</style>\n",
       "<table border=\"1\" class=\"dataframe\">\n",
       "  <thead>\n",
       "    <tr style=\"text-align: right;\">\n",
       "      <th></th>\n",
       "      <th>price</th>\n",
       "      <th>model_year</th>\n",
       "      <th>model</th>\n",
       "      <th>condition</th>\n",
       "      <th>cylinders</th>\n",
       "      <th>fuel</th>\n",
       "      <th>odometer</th>\n",
       "      <th>transmission</th>\n",
       "      <th>type</th>\n",
       "      <th>paint_color</th>\n",
       "      <th>is_4wd</th>\n",
       "      <th>date_posted</th>\n",
       "      <th>days_listed</th>\n",
       "    </tr>\n",
       "  </thead>\n",
       "  <tbody>\n",
       "    <tr>\n",
       "      <td>0</td>\n",
       "      <td>9400</td>\n",
       "      <td>2011.0</td>\n",
       "      <td>bmw x5</td>\n",
       "      <td>good</td>\n",
       "      <td>6.0</td>\n",
       "      <td>gas</td>\n",
       "      <td>145000.0</td>\n",
       "      <td>automatic</td>\n",
       "      <td>SUV</td>\n",
       "      <td>NaN</td>\n",
       "      <td>1.0</td>\n",
       "      <td>2018-06-23</td>\n",
       "      <td>19</td>\n",
       "    </tr>\n",
       "    <tr>\n",
       "      <td>3</td>\n",
       "      <td>1500</td>\n",
       "      <td>2003.0</td>\n",
       "      <td>ford f-150</td>\n",
       "      <td>fair</td>\n",
       "      <td>8.0</td>\n",
       "      <td>gas</td>\n",
       "      <td>NaN</td>\n",
       "      <td>automatic</td>\n",
       "      <td>pickup</td>\n",
       "      <td>NaN</td>\n",
       "      <td>NaN</td>\n",
       "      <td>2019-03-22</td>\n",
       "      <td>9</td>\n",
       "    </tr>\n",
       "    <tr>\n",
       "      <td>8</td>\n",
       "      <td>11500</td>\n",
       "      <td>2012.0</td>\n",
       "      <td>kia sorento</td>\n",
       "      <td>excellent</td>\n",
       "      <td>4.0</td>\n",
       "      <td>gas</td>\n",
       "      <td>104174.0</td>\n",
       "      <td>automatic</td>\n",
       "      <td>SUV</td>\n",
       "      <td>NaN</td>\n",
       "      <td>1.0</td>\n",
       "      <td>2018-07-16</td>\n",
       "      <td>19</td>\n",
       "    </tr>\n",
       "    <tr>\n",
       "      <td>12</td>\n",
       "      <td>18990</td>\n",
       "      <td>2012.0</td>\n",
       "      <td>ram 1500</td>\n",
       "      <td>excellent</td>\n",
       "      <td>8.0</td>\n",
       "      <td>gas</td>\n",
       "      <td>140742.0</td>\n",
       "      <td>automatic</td>\n",
       "      <td>pickup</td>\n",
       "      <td>NaN</td>\n",
       "      <td>1.0</td>\n",
       "      <td>2019-04-02</td>\n",
       "      <td>37</td>\n",
       "    </tr>\n",
       "    <tr>\n",
       "      <td>21</td>\n",
       "      <td>5250</td>\n",
       "      <td>2007.0</td>\n",
       "      <td>toyota rav4</td>\n",
       "      <td>good</td>\n",
       "      <td>6.0</td>\n",
       "      <td>gas</td>\n",
       "      <td>154000.0</td>\n",
       "      <td>automatic</td>\n",
       "      <td>SUV</td>\n",
       "      <td>NaN</td>\n",
       "      <td>NaN</td>\n",
       "      <td>2018-08-22</td>\n",
       "      <td>8</td>\n",
       "    </tr>\n",
       "  </tbody>\n",
       "</table>\n",
       "</div>"
      ],
      "text/plain": [
       "    price  model_year        model  condition  cylinders fuel  odometer  \\\n",
       "0    9400      2011.0       bmw x5       good        6.0  gas  145000.0   \n",
       "3    1500      2003.0   ford f-150       fair        8.0  gas       NaN   \n",
       "8   11500      2012.0  kia sorento  excellent        4.0  gas  104174.0   \n",
       "12  18990      2012.0     ram 1500  excellent        8.0  gas  140742.0   \n",
       "21   5250      2007.0  toyota rav4       good        6.0  gas  154000.0   \n",
       "\n",
       "   transmission    type paint_color  is_4wd date_posted  days_listed  \n",
       "0     automatic     SUV         NaN     1.0  2018-06-23           19  \n",
       "3     automatic  pickup         NaN     NaN  2019-03-22            9  \n",
       "8     automatic     SUV         NaN     1.0  2018-07-16           19  \n",
       "12    automatic  pickup         NaN     1.0  2019-04-02           37  \n",
       "21    automatic     SUV         NaN     NaN  2018-08-22            8  "
      ]
     },
     "execution_count": 8,
     "metadata": {},
     "output_type": "execute_result"
    }
   ],
   "source": [
    "data_vehicles.query('paint_color.isnull()').head(5)"
   ]
  },
  {
   "cell_type": "markdown",
   "metadata": {},
   "source": [
    "We inspected rows with missing values in the column paint_color (no correlation with any other column).\n",
    "No obvious fix for missing values."
   ]
  },
  {
   "cell_type": "code",
   "execution_count": 9,
   "metadata": {
    "scrolled": true
   },
   "outputs": [
    {
     "data": {
      "text/plain": [
       "1.0    25572\n",
       "Name: is_4wd, dtype: int64"
      ]
     },
     "execution_count": 9,
     "metadata": {},
     "output_type": "execute_result"
    }
   ],
   "source": [
    "data_vehicles['is_4wd'].value_counts()"
   ]
  },
  {
   "cell_type": "markdown",
   "metadata": {},
   "source": [
    "is_4wd - from value counts it's clear that there are only 2 values in column : 1.0 and None\n",
    "Obviously, 1.0 stands for 4wd vehicles. Converting type and filling missing values in next section"
   ]
  },
  {
   "cell_type": "code",
   "execution_count": 10,
   "metadata": {},
   "outputs": [
    {
     "data": {
      "text/plain": [
       "price             int64\n",
       "model_year      float64\n",
       "model            object\n",
       "condition        object\n",
       "cylinders       float64\n",
       "fuel             object\n",
       "odometer        float64\n",
       "transmission     object\n",
       "type             object\n",
       "paint_color      object\n",
       "is_4wd          float64\n",
       "date_posted      object\n",
       "days_listed       int64\n",
       "dtype: object"
      ]
     },
     "execution_count": 10,
     "metadata": {},
     "output_type": "execute_result"
    }
   ],
   "source": [
    "data_vehicles.dtypes"
   ]
  },
  {
   "cell_type": "markdown",
   "metadata": {},
   "source": [
    "Columns that require data type conversion:\n",
    "model_year - float to int (year is a whole number)\n",
    "cylinders - float to int\n",
    "odometer - float to int\n",
    "is_4wd - float to boolean (can contain only 2 values, so boolean is appropriate)\n",
    "date_posted - object to datetime - obviously, for convenience\n"
   ]
  },
  {
   "cell_type": "code",
   "execution_count": 11,
   "metadata": {},
   "outputs": [],
   "source": [
    "#filling NaN values with 0.0 and converting values of column is_4wd to boolean\n",
    "data_vehicles['is_4wd'] = data_vehicles['is_4wd'].fillna(0.0)\n",
    "data_vehicles['is_4wd'] = data_vehicles['is_4wd'].astype('bool')"
   ]
  },
  {
   "cell_type": "code",
   "execution_count": 12,
   "metadata": {},
   "outputs": [],
   "source": [
    "#converting date_posted\n",
    "data_vehicles['date_posted'] = pd.to_datetime(data_vehicles['date_posted'], format='%Y-%m-%d')"
   ]
  },
  {
   "cell_type": "code",
   "execution_count": 13,
   "metadata": {},
   "outputs": [],
   "source": [
    "#dropping missing values\n",
    "data_vehicles.dropna(inplace=True)"
   ]
  },
  {
   "cell_type": "code",
   "execution_count": 14,
   "metadata": {},
   "outputs": [],
   "source": [
    "#converting data types\n",
    "for col in ['model_year', 'cylinders', 'odometer']:\n",
    "    data_vehicles[col] = data_vehicles[col].astype(int)"
   ]
  },
  {
   "cell_type": "code",
   "execution_count": 15,
   "metadata": {},
   "outputs": [
    {
     "data": {
      "text/plain": [
       "price                    int64\n",
       "model_year               int64\n",
       "model                   object\n",
       "condition               object\n",
       "cylinders                int64\n",
       "fuel                    object\n",
       "odometer                 int64\n",
       "transmission            object\n",
       "type                    object\n",
       "paint_color             object\n",
       "is_4wd                    bool\n",
       "date_posted     datetime64[ns]\n",
       "days_listed              int64\n",
       "dtype: object"
      ]
     },
     "execution_count": 15,
     "metadata": {},
     "output_type": "execute_result"
    }
   ],
   "source": [
    "data_vehicles.dtypes"
   ]
  },
  {
   "cell_type": "code",
   "execution_count": 16,
   "metadata": {},
   "outputs": [
    {
     "name": "stdout",
     "output_type": "stream",
     "text": [
      "<class 'pandas.core.frame.DataFrame'>\n",
      "Int64Index: 29916 entries, 2 to 51523\n",
      "Data columns (total 13 columns):\n",
      "price           29916 non-null int64\n",
      "model_year      29916 non-null int64\n",
      "model           29916 non-null object\n",
      "condition       29916 non-null object\n",
      "cylinders       29916 non-null int64\n",
      "fuel            29916 non-null object\n",
      "odometer        29916 non-null int64\n",
      "transmission    29916 non-null object\n",
      "type            29916 non-null object\n",
      "paint_color     29916 non-null object\n",
      "is_4wd          29916 non-null bool\n",
      "date_posted     29916 non-null datetime64[ns]\n",
      "days_listed     29916 non-null int64\n",
      "dtypes: bool(1), datetime64[ns](1), int64(5), object(6)\n",
      "memory usage: 3.0+ MB\n"
     ]
    }
   ],
   "source": [
    "data_vehicles.info()"
   ]
  },
  {
   "cell_type": "markdown",
   "metadata": {},
   "source": [
    "### Conclusion"
   ]
  },
  {
   "cell_type": "markdown",
   "metadata": {},
   "source": [
    "The rows of model_year and cylinders contain information from the technical passport of the vehicles and not always the person who publishes the advertisement for the sale of the vehicle has this document at hand. Perhaps this is why these columns have missing values. \n",
    "\n",
    "There are also missing values in the odometer column in our table, probably due to the fact that the odometer is too huge, while the rest of the vehicle is in excellent condition, and thus the advertiser does not want to weed out some potential buyers in advance, and will provide this information upon request. Another reason that there are missing values in the odometer column may be that the advertiser publishing the advertisement is not near the vehicle and cannot check the exact odometer data. \n",
    "\n",
    "In the column is_4wd, all filled lines indicate 1, that is, a vehicle with four-wheel drive, the lines remain empty, which obviously indicates that the vehicle does not have four-wheel drive and the values can be filled in with 0.\n",
    "\n",
    "The appearance of missing values in the painted_color column, in our opinion, is the most difficult to explain. Possible reasons may be as follows: the column was accidentally missed, the advertiser does not consider the color of the vehicle as an essential parameter, it is possible that a photo is attached to the ad and the color is visible on it, it can also be assumed that the advertiser found it difficult to indicate the color in accordance with the technical passport of the vehicle.\n",
    "\n",
    "We believe that it is inappropriate to fill in the missing values for columns: model_year, cylinders, odometer, paint_color with any of the available ones, because it is difficult to guess what these values might be. For example, the color of the vehicles can be both common and rare or single. Or odometer indicator may be any and etc. \n",
    "We dropped lines with missing values.\n",
    "We filled missing values in the column is_4wd with 0 because it is obviously that this data has only two values 0 or 1 and converted datato boolean type.\n",
    "All values have data types int or object, excluding date_posted which was converted to datetime64 and is_4wd - to bool."
   ]
  },
  {
   "cell_type": "markdown",
   "metadata": {},
   "source": [
    "<div class=\"alert alert-success\">\n",
    "<h3>Reviewer's comment</h3>\n",
    "    \n",
    "It is great you analyzed each variables in details and avoided some unreasonable imputations 👍🏻\n",
    "    \n",
    "It is worth trying to group data and check whether we can impute some values using group's median or mean."
   ]
  },
  {
   "cell_type": "markdown",
   "metadata": {},
   "source": [
    "<div class=\"alert alert-danger\">\n",
    "<h3>Reviewer's comment</h3>\n",
    "\n",
    "You are also required to describe the factors that may have resulted in missing values."
   ]
  },
  {
   "cell_type": "markdown",
   "metadata": {},
   "source": [
    "<div class=\"alert alert-success\">\n",
    "  <h3>Answer</h3> I added to the conclusion above factors wich can effect to appear missing values (first four paragraphs).\n",
    "  </div>"
   ]
  },
  {
   "cell_type": "markdown",
   "metadata": {},
   "source": [
    "<div class=\"alert alert-success\">\n",
    "<h3>Reviewer's comment v2</h3>\n",
    "    \n",
    "Well done 👍🏻"
   ]
  },
  {
   "cell_type": "markdown",
   "metadata": {},
   "source": [
    "### Step 3. Make calculations and add them to the table <a class=\"anchor\" id=\"third-step\"></a>"
   ]
  },
  {
   "cell_type": "code",
   "execution_count": 17,
   "metadata": {},
   "outputs": [],
   "source": [
    "#Adding day of week, month and year columns(when the ad was placed)\n",
    "data_vehicles['weekday'] = data_vehicles['date_posted'].dt.weekday\n",
    "data_vehicles['month'] = data_vehicles['date_posted'].dt.month\n",
    "data_vehicles['year'] = data_vehicles['date_posted'].dt.year"
   ]
  },
  {
   "cell_type": "code",
   "execution_count": 18,
   "metadata": {},
   "outputs": [],
   "source": [
    "#Adding vehicle_age column\n",
    "data_vehicles['vehicle_age'] = data_vehicles['year'] - data_vehicles['model_year'] + 1"
   ]
  },
  {
   "cell_type": "code",
   "execution_count": 19,
   "metadata": {},
   "outputs": [],
   "source": [
    "#Adding mileage per year column\n",
    "data_vehicles['mileage_per_year'] = data_vehicles['odometer'] // data_vehicles['vehicle_age']"
   ]
  },
  {
   "cell_type": "code",
   "execution_count": 20,
   "metadata": {},
   "outputs": [
    {
     "name": "stdout",
     "output_type": "stream",
     "text": [
      "<class 'pandas.core.frame.DataFrame'>\n",
      "Int64Index: 29916 entries, 2 to 51523\n",
      "Data columns (total 18 columns):\n",
      "price               29916 non-null int64\n",
      "model_year          29916 non-null int64\n",
      "model               29916 non-null object\n",
      "condition           29916 non-null object\n",
      "cylinders           29916 non-null int64\n",
      "fuel                29916 non-null object\n",
      "odometer            29916 non-null int64\n",
      "transmission        29916 non-null object\n",
      "type                29916 non-null object\n",
      "paint_color         29916 non-null object\n",
      "is_4wd              29916 non-null bool\n",
      "date_posted         29916 non-null datetime64[ns]\n",
      "days_listed         29916 non-null int64\n",
      "weekday             29916 non-null int64\n",
      "month               29916 non-null int64\n",
      "year                29916 non-null int64\n",
      "vehicle_age         29916 non-null int64\n",
      "mileage_per_year    29916 non-null int64\n",
      "dtypes: bool(1), datetime64[ns](1), int64(10), object(6)\n",
      "memory usage: 4.1+ MB\n"
     ]
    }
   ],
   "source": [
    "data_vehicles.info()"
   ]
  },
  {
   "cell_type": "markdown",
   "metadata": {},
   "source": [
    "<div class=\"alert alert-danger\">\n",
    "<h3>Reviewer's comment</h3>\n",
    "\n",
    "It is not quite correct when the calculation results in inf value. I would suggest to use try-except statement or write a function for mileage_per_year calculation. For example, we can simply assume that 0 y.o. car has an average mileage equal to odometer value. Anyway this issue (like all other ones) is open for discussion. If you don't agree, just leave a comment :)"
   ]
  },
  {
   "cell_type": "markdown",
   "metadata": {},
   "source": [
    "<div class=\"alert alert-warning\">\n",
    "  <h3>Answer</h3> \n",
    "Unfortunately I was unable to apply the function try-except. the value remained inf.\n",
    "I solved it by plusing 1 to vehicle age. Please advise if it is possible.\n",
    "  </div>"
   ]
  },
  {
   "cell_type": "markdown",
   "metadata": {},
   "source": [
    "<div class=\"alert alert-success\">\n",
    "<h3>Reviewer's comment v2</h3>\n",
    "    \n",
    "It is okay. But you should have created a separate variable for calculation so that our dataframe contains correct data. The most simple way is to use the following function:\n",
    "    \n",
    "    \n",
    "    def function(row):\n",
    "        if row['age'] == 0 or row['odometer'] == 0:\n",
    "            return row['odometer']\n",
    "    return row['odometer'] / row['age']\n",
    "    \n"
   ]
  },
  {
   "cell_type": "markdown",
   "metadata": {},
   "source": [
    "In the condition column, replacing string values with a numeric scale:"
   ]
  },
  {
   "cell_type": "code",
   "execution_count": 21,
   "metadata": {},
   "outputs": [],
   "source": [
    "#function fo replace:\n",
    "def condition_to_numeric(condition):\n",
    "    if condition == 'new':\n",
    "        return 5\n",
    "    if condition == 'like new':\n",
    "        return 4\n",
    "    if condition == 'excellent':\n",
    "        return 3\n",
    "    if condition == 'good':\n",
    "        return 2\n",
    "    if condition == 'fair':\n",
    "        return 1\n",
    "    if condition == 'salvage':\n",
    "        return 0"
   ]
  },
  {
   "cell_type": "code",
   "execution_count": 22,
   "metadata": {},
   "outputs": [],
   "source": [
    "#applying function:\n",
    "data_vehicles['condition'] = data_vehicles['condition'].apply(condition_to_numeric)"
   ]
  },
  {
   "cell_type": "code",
   "execution_count": 23,
   "metadata": {},
   "outputs": [
    {
     "data": {
      "text/html": [
       "<div>\n",
       "<style scoped>\n",
       "    .dataframe tbody tr th:only-of-type {\n",
       "        vertical-align: middle;\n",
       "    }\n",
       "\n",
       "    .dataframe tbody tr th {\n",
       "        vertical-align: top;\n",
       "    }\n",
       "\n",
       "    .dataframe thead th {\n",
       "        text-align: right;\n",
       "    }\n",
       "</style>\n",
       "<table border=\"1\" class=\"dataframe\">\n",
       "  <thead>\n",
       "    <tr style=\"text-align: right;\">\n",
       "      <th></th>\n",
       "      <th>price</th>\n",
       "      <th>model_year</th>\n",
       "      <th>model</th>\n",
       "      <th>condition</th>\n",
       "      <th>cylinders</th>\n",
       "      <th>fuel</th>\n",
       "      <th>odometer</th>\n",
       "      <th>transmission</th>\n",
       "      <th>type</th>\n",
       "      <th>paint_color</th>\n",
       "      <th>is_4wd</th>\n",
       "      <th>date_posted</th>\n",
       "      <th>days_listed</th>\n",
       "      <th>weekday</th>\n",
       "      <th>month</th>\n",
       "      <th>year</th>\n",
       "      <th>vehicle_age</th>\n",
       "      <th>mileage_per_year</th>\n",
       "    </tr>\n",
       "  </thead>\n",
       "  <tbody>\n",
       "    <tr>\n",
       "      <td>2</td>\n",
       "      <td>5500</td>\n",
       "      <td>2013</td>\n",
       "      <td>hyundai sonata</td>\n",
       "      <td>4</td>\n",
       "      <td>4</td>\n",
       "      <td>gas</td>\n",
       "      <td>110000</td>\n",
       "      <td>automatic</td>\n",
       "      <td>sedan</td>\n",
       "      <td>red</td>\n",
       "      <td>False</td>\n",
       "      <td>2019-02-07</td>\n",
       "      <td>79</td>\n",
       "      <td>3</td>\n",
       "      <td>2</td>\n",
       "      <td>2019</td>\n",
       "      <td>7</td>\n",
       "      <td>15714</td>\n",
       "    </tr>\n",
       "    <tr>\n",
       "      <td>4</td>\n",
       "      <td>14900</td>\n",
       "      <td>2017</td>\n",
       "      <td>chrysler 200</td>\n",
       "      <td>3</td>\n",
       "      <td>4</td>\n",
       "      <td>gas</td>\n",
       "      <td>80903</td>\n",
       "      <td>automatic</td>\n",
       "      <td>sedan</td>\n",
       "      <td>black</td>\n",
       "      <td>False</td>\n",
       "      <td>2019-04-02</td>\n",
       "      <td>28</td>\n",
       "      <td>1</td>\n",
       "      <td>4</td>\n",
       "      <td>2019</td>\n",
       "      <td>3</td>\n",
       "      <td>26967</td>\n",
       "    </tr>\n",
       "    <tr>\n",
       "      <td>5</td>\n",
       "      <td>14990</td>\n",
       "      <td>2014</td>\n",
       "      <td>chrysler 300</td>\n",
       "      <td>3</td>\n",
       "      <td>6</td>\n",
       "      <td>gas</td>\n",
       "      <td>57954</td>\n",
       "      <td>automatic</td>\n",
       "      <td>sedan</td>\n",
       "      <td>black</td>\n",
       "      <td>True</td>\n",
       "      <td>2018-06-20</td>\n",
       "      <td>15</td>\n",
       "      <td>2</td>\n",
       "      <td>6</td>\n",
       "      <td>2018</td>\n",
       "      <td>5</td>\n",
       "      <td>11590</td>\n",
       "    </tr>\n",
       "    <tr>\n",
       "      <td>6</td>\n",
       "      <td>12990</td>\n",
       "      <td>2015</td>\n",
       "      <td>toyota camry</td>\n",
       "      <td>3</td>\n",
       "      <td>4</td>\n",
       "      <td>gas</td>\n",
       "      <td>79212</td>\n",
       "      <td>automatic</td>\n",
       "      <td>sedan</td>\n",
       "      <td>white</td>\n",
       "      <td>False</td>\n",
       "      <td>2018-12-27</td>\n",
       "      <td>73</td>\n",
       "      <td>3</td>\n",
       "      <td>12</td>\n",
       "      <td>2018</td>\n",
       "      <td>4</td>\n",
       "      <td>19803</td>\n",
       "    </tr>\n",
       "    <tr>\n",
       "      <td>7</td>\n",
       "      <td>15990</td>\n",
       "      <td>2013</td>\n",
       "      <td>honda pilot</td>\n",
       "      <td>3</td>\n",
       "      <td>6</td>\n",
       "      <td>gas</td>\n",
       "      <td>109473</td>\n",
       "      <td>automatic</td>\n",
       "      <td>SUV</td>\n",
       "      <td>black</td>\n",
       "      <td>True</td>\n",
       "      <td>2019-01-07</td>\n",
       "      <td>68</td>\n",
       "      <td>0</td>\n",
       "      <td>1</td>\n",
       "      <td>2019</td>\n",
       "      <td>7</td>\n",
       "      <td>15639</td>\n",
       "    </tr>\n",
       "  </tbody>\n",
       "</table>\n",
       "</div>"
      ],
      "text/plain": [
       "   price  model_year           model  condition  cylinders fuel  odometer  \\\n",
       "2   5500        2013  hyundai sonata          4          4  gas    110000   \n",
       "4  14900        2017    chrysler 200          3          4  gas     80903   \n",
       "5  14990        2014    chrysler 300          3          6  gas     57954   \n",
       "6  12990        2015    toyota camry          3          4  gas     79212   \n",
       "7  15990        2013     honda pilot          3          6  gas    109473   \n",
       "\n",
       "  transmission   type paint_color  is_4wd date_posted  days_listed  weekday  \\\n",
       "2    automatic  sedan         red   False  2019-02-07           79        3   \n",
       "4    automatic  sedan       black   False  2019-04-02           28        1   \n",
       "5    automatic  sedan       black    True  2018-06-20           15        2   \n",
       "6    automatic  sedan       white   False  2018-12-27           73        3   \n",
       "7    automatic    SUV       black    True  2019-01-07           68        0   \n",
       "\n",
       "   month  year  vehicle_age  mileage_per_year  \n",
       "2      2  2019            7             15714  \n",
       "4      4  2019            3             26967  \n",
       "5      6  2018            5             11590  \n",
       "6     12  2018            4             19803  \n",
       "7      1  2019            7             15639  "
      ]
     },
     "execution_count": 23,
     "metadata": {},
     "output_type": "execute_result"
    }
   ],
   "source": [
    "data_vehicles.head()"
   ]
  },
  {
   "cell_type": "markdown",
   "metadata": {},
   "source": [
    "<div class=\"alert alert-success\">\n",
    "<h3>Reviewer's comment</h3>\n",
    "\n",
    "Everything else is done perfectly 👍🏻"
   ]
  },
  {
   "cell_type": "markdown",
   "metadata": {},
   "source": [
    "### Step 4. Carry out exploratory data analysis <a class=\"anchor\" id=\"forth-step\"></a>"
   ]
  },
  {
   "cell_type": "markdown",
   "metadata": {},
   "source": [
    "<div class=\"alert alert-danger\">\n",
    "<h3>Reviewer's comment</h3>\n",
    "    \n",
    "Please make sure that all graphs contain the title anf labelled axes :) \n",
    "    \n",
    "You can also use plt.show( ) to avoid printing technical text before the graph. "
   ]
  },
  {
   "cell_type": "markdown",
   "metadata": {},
   "source": [
    "<div class=\"alert alert-success\">\n",
    "  <h3>Answer</h3> \n",
    "Done. And thank you for advice.\n",
    "  </div>"
   ]
  },
  {
   "cell_type": "markdown",
   "metadata": {},
   "source": [
    "<div class=\"alert alert-success\">\n",
    "<h3>Reviewer's comment v2</h3>\n",
    "    \n",
    "Great job!"
   ]
  },
  {
   "cell_type": "code",
   "execution_count": 24,
   "metadata": {
    "scrolled": true
   },
   "outputs": [
    {
     "data": {
      "text/plain": [
       "count     29916.000000\n",
       "mean      12197.222189\n",
       "std       10152.572328\n",
       "min           1.000000\n",
       "25%        5000.000000\n",
       "50%        9000.000000\n",
       "75%       16900.000000\n",
       "max      375000.000000\n",
       "Name: price, dtype: float64"
      ]
     },
     "execution_count": 24,
     "metadata": {},
     "output_type": "execute_result"
    }
   ],
   "source": [
    "# describing parameter price \n",
    "data_vehicles['price'].describe()"
   ]
  },
  {
   "cell_type": "code",
   "execution_count": 25,
   "metadata": {},
   "outputs": [
    {
     "data": {
      "image/png": "[encoded data removed]",
      "text/plain": [
       "<Figure size 432x288 with 1 Axes>"
      ]
     },
     "metadata": {
      "needs_background": "light"
     },
     "output_type": "display_data"
    }
   ],
   "source": [
    "#plotting histogram\n",
    "data_vehicles['price'].plot(kind='hist', bins=100, range=[0,100000], title='Histogram of the vehicle\\'s price')\n",
    "plt.xlabel('Price')\n",
    "plt.show( )"
   ]
  },
  {
   "cell_type": "markdown",
   "metadata": {},
   "source": [
    "The main price range from about 0 to 20000. There is outliers with price more than 60000"
   ]
  },
  {
   "cell_type": "code",
   "execution_count": 26,
   "metadata": {
    "scrolled": true
   },
   "outputs": [
    {
     "data": {
      "text/plain": [
       "count    29916.000000\n",
       "mean         9.560603\n",
       "std          6.286292\n",
       "min          1.000000\n",
       "25%          5.000000\n",
       "50%          8.000000\n",
       "75%         13.000000\n",
       "max        111.000000\n",
       "Name: vehicle_age, dtype: float64"
      ]
     },
     "execution_count": 26,
     "metadata": {},
     "output_type": "execute_result"
    }
   ],
   "source": [
    "#describing parameter vehicle_age \n",
    "data_vehicles['vehicle_age'].describe()"
   ]
  },
  {
   "cell_type": "code",
   "execution_count": 27,
   "metadata": {},
   "outputs": [
    {
     "data": {
      "image/png": "[encoded data removed]",
      "text/plain": [
       "<Figure size 432x288 with 1 Axes>"
      ]
     },
     "metadata": {
      "needs_background": "light"
     },
     "output_type": "display_data"
    }
   ],
   "source": [
    "#plotting histogram\n",
    "data_vehicles['vehicle_age'].plot(kind='hist', bins=100, range=(0,60), title='Histogram of vehicle\\'s age')\n",
    "plt.xlabel('Vehicle_age')\n",
    "plt.show( )"
   ]
  },
  {
   "cell_type": "markdown",
   "metadata": {},
   "source": [
    "The age of the most vehicles is in the range from 0 to 20 years. There are separate values after 30 years."
   ]
  },
  {
   "cell_type": "code",
   "execution_count": 28,
   "metadata": {
    "scrolled": true
   },
   "outputs": [
    {
     "data": {
      "text/plain": [
       "count     29916.000000\n",
       "mean     115458.763003\n",
       "std       65299.301405\n",
       "min           0.000000\n",
       "25%       69840.000000\n",
       "50%      113000.000000\n",
       "75%      155115.500000\n",
       "max      990000.000000\n",
       "Name: odometer, dtype: float64"
      ]
     },
     "execution_count": 28,
     "metadata": {},
     "output_type": "execute_result"
    }
   ],
   "source": [
    "#describing parameter mileage\n",
    "data_vehicles['odometer'].describe()"
   ]
  },
  {
   "cell_type": "code",
   "execution_count": 29,
   "metadata": {
    "scrolled": true
   },
   "outputs": [
    {
     "data": {
      "image/png": "[encoded data removed]",
      "text/plain": [
       "<Figure size 432x288 with 1 Axes>"
      ]
     },
     "metadata": {
      "needs_background": "light"
     },
     "output_type": "display_data"
    }
   ],
   "source": [
    "#plotting histogram\n",
    "data_vehicles['odometer'].plot(kind='hist', bins=100, range=(0,500000), title='Histogram of odometer')\n",
    "plt.xlabel('Odometer')\n",
    "plt.show( )"
   ]
  },
  {
   "cell_type": "markdown",
   "metadata": {},
   "source": [
    "The main values of the odometer indicator are in the range from 0 to 200,000. There are a lot of new vehicles. There are a number of cars with mileage from 200,000 to 350,000 and individual values after 350,000"
   ]
  },
  {
   "cell_type": "code",
   "execution_count": 30,
   "metadata": {
    "scrolled": true
   },
   "outputs": [
    {
     "data": {
      "text/plain": [
       "count    29916.000000\n",
       "mean         6.134343\n",
       "std          1.659248\n",
       "min          3.000000\n",
       "25%          4.000000\n",
       "50%          6.000000\n",
       "75%          8.000000\n",
       "max         12.000000\n",
       "Name: cylinders, dtype: float64"
      ]
     },
     "execution_count": 30,
     "metadata": {},
     "output_type": "execute_result"
    }
   ],
   "source": [
    "#describing parameter cylinders \n",
    "data_vehicles['cylinders'].describe()"
   ]
  },
  {
   "cell_type": "code",
   "execution_count": 31,
   "metadata": {
    "scrolled": true
   },
   "outputs": [
    {
     "data": {
      "image/png": "[encoded data removed]",
      "text/plain": [
       "<Figure size 432x288 with 1 Axes>"
      ]
     },
     "metadata": {
      "needs_background": "light"
     },
     "output_type": "display_data"
    }
   ],
   "source": [
    "#plotting histogram\n",
    "data_vehicles['cylinders'].plot(kind='hist', bins=9, title='Histogram of cylinder\"s amount')\n",
    "plt.xlabel('Cylinders')\n",
    "plt.show( )"
   ]
  },
  {
   "cell_type": "markdown",
   "metadata": {},
   "source": [
    "Mostly vehicles for sale have 4, 6, or 8 cylinders."
   ]
  },
  {
   "cell_type": "code",
   "execution_count": 32,
   "metadata": {},
   "outputs": [
    {
     "data": {
      "text/plain": [
       "count    29916.000000\n",
       "mean         2.638287\n",
       "std          0.713446\n",
       "min          0.000000\n",
       "25%          2.000000\n",
       "50%          3.000000\n",
       "75%          3.000000\n",
       "max          5.000000\n",
       "Name: condition, dtype: float64"
      ]
     },
     "execution_count": 32,
     "metadata": {},
     "output_type": "execute_result"
    }
   ],
   "source": [
    "#describing parameter condition \n",
    "data_vehicles['condition'].describe()"
   ]
  },
  {
   "cell_type": "code",
   "execution_count": 33,
   "metadata": {},
   "outputs": [
    {
     "data": {
      "image/png": "[encoded data removed]",
      "text/plain": [
       "<Figure size 432x288 with 1 Axes>"
      ]
     },
     "metadata": {
      "needs_background": "light"
     },
     "output_type": "display_data"
    }
   ],
   "source": [
    "#plotting histogram\n",
    "data_vehicles['condition'].plot(kind='hist', bins=6, title='Histogram of vehicle\\'s condition')\n",
    "plt.xlabel('Condition')\n",
    "plt.show( )"
   ]
  },
  {
   "cell_type": "markdown",
   "metadata": {},
   "source": [
    "The condition of vehicles is mainly good (2) or excelent (3)."
   ]
  },
  {
   "cell_type": "code",
   "execution_count": 34,
   "metadata": {
    "scrolled": true
   },
   "outputs": [
    {
     "data": {
      "text/html": [
       "<div>\n",
       "<style scoped>\n",
       "    .dataframe tbody tr th:only-of-type {\n",
       "        vertical-align: middle;\n",
       "    }\n",
       "\n",
       "    .dataframe tbody tr th {\n",
       "        vertical-align: top;\n",
       "    }\n",
       "\n",
       "    .dataframe thead th {\n",
       "        text-align: right;\n",
       "    }\n",
       "</style>\n",
       "<table border=\"1\" class=\"dataframe\">\n",
       "  <thead>\n",
       "    <tr style=\"text-align: right;\">\n",
       "      <th></th>\n",
       "      <th>price</th>\n",
       "      <th>vehicle_age</th>\n",
       "      <th>odometer</th>\n",
       "      <th>cylinders</th>\n",
       "      <th>condition</th>\n",
       "    </tr>\n",
       "  </thead>\n",
       "  <tbody>\n",
       "    <tr>\n",
       "      <td>count</td>\n",
       "      <td>29916.000000</td>\n",
       "      <td>29916.000000</td>\n",
       "      <td>29916.000000</td>\n",
       "      <td>29916.000000</td>\n",
       "      <td>29916.000000</td>\n",
       "    </tr>\n",
       "    <tr>\n",
       "      <td>mean</td>\n",
       "      <td>12197.222189</td>\n",
       "      <td>9.560603</td>\n",
       "      <td>115458.763003</td>\n",
       "      <td>6.134343</td>\n",
       "      <td>2.638287</td>\n",
       "    </tr>\n",
       "    <tr>\n",
       "      <td>std</td>\n",
       "      <td>10152.572328</td>\n",
       "      <td>6.286292</td>\n",
       "      <td>65299.301405</td>\n",
       "      <td>1.659248</td>\n",
       "      <td>0.713446</td>\n",
       "    </tr>\n",
       "    <tr>\n",
       "      <td>min</td>\n",
       "      <td>1.000000</td>\n",
       "      <td>1.000000</td>\n",
       "      <td>0.000000</td>\n",
       "      <td>3.000000</td>\n",
       "      <td>0.000000</td>\n",
       "    </tr>\n",
       "    <tr>\n",
       "      <td>25%</td>\n",
       "      <td>5000.000000</td>\n",
       "      <td>5.000000</td>\n",
       "      <td>69840.000000</td>\n",
       "      <td>4.000000</td>\n",
       "      <td>2.000000</td>\n",
       "    </tr>\n",
       "    <tr>\n",
       "      <td>50%</td>\n",
       "      <td>9000.000000</td>\n",
       "      <td>8.000000</td>\n",
       "      <td>113000.000000</td>\n",
       "      <td>6.000000</td>\n",
       "      <td>3.000000</td>\n",
       "    </tr>\n",
       "    <tr>\n",
       "      <td>75%</td>\n",
       "      <td>16900.000000</td>\n",
       "      <td>13.000000</td>\n",
       "      <td>155115.500000</td>\n",
       "      <td>8.000000</td>\n",
       "      <td>3.000000</td>\n",
       "    </tr>\n",
       "    <tr>\n",
       "      <td>max</td>\n",
       "      <td>375000.000000</td>\n",
       "      <td>111.000000</td>\n",
       "      <td>990000.000000</td>\n",
       "      <td>12.000000</td>\n",
       "      <td>5.000000</td>\n",
       "    </tr>\n",
       "  </tbody>\n",
       "</table>\n",
       "</div>"
      ],
      "text/plain": [
       "               price   vehicle_age       odometer     cylinders     condition\n",
       "count   29916.000000  29916.000000   29916.000000  29916.000000  29916.000000\n",
       "mean    12197.222189      9.560603  115458.763003      6.134343      2.638287\n",
       "std     10152.572328      6.286292   65299.301405      1.659248      0.713446\n",
       "min         1.000000      1.000000       0.000000      3.000000      0.000000\n",
       "25%      5000.000000      5.000000   69840.000000      4.000000      2.000000\n",
       "50%      9000.000000      8.000000  113000.000000      6.000000      3.000000\n",
       "75%     16900.000000     13.000000  155115.500000      8.000000      3.000000\n",
       "max    375000.000000    111.000000  990000.000000     12.000000      5.000000"
      ]
     },
     "execution_count": 34,
     "metadata": {},
     "output_type": "execute_result"
    }
   ],
   "source": [
    "data_vehicles[['price', 'vehicle_age', 'odometer', 'cylinders', 'condition']].describe()"
   ]
  },
  {
   "cell_type": "code",
   "execution_count": 35,
   "metadata": {},
   "outputs": [
    {
     "data": {
      "text/plain": [
       "8     10286\n",
       "6     10181\n",
       "4      8878\n",
       "10      363\n",
       "5       183\n",
       "3        24\n",
       "12        1\n",
       "Name: cylinders, dtype: int64"
      ]
     },
     "execution_count": 35,
     "metadata": {},
     "output_type": "execute_result"
    }
   ],
   "source": [
    "data_vehicles['cylinders'].value_counts()"
   ]
  },
  {
   "cell_type": "code",
   "execution_count": 36,
   "metadata": {},
   "outputs": [
    {
     "data": {
      "text/plain": [
       "3    14361\n",
       "2    11701\n",
       "4     2767\n",
       "1      934\n",
       "5       88\n",
       "0       65\n",
       "Name: condition, dtype: int64"
      ]
     },
     "execution_count": 36,
     "metadata": {},
     "output_type": "execute_result"
    }
   ],
   "source": [
    "data_vehicles['condition'].value_counts()"
   ]
  },
  {
   "cell_type": "code",
   "execution_count": 37,
   "metadata": {},
   "outputs": [],
   "source": [
    "#removing the outliers \n",
    "good_data = data_vehicles.query('price <= 60000 and vehicle_age <= 30 and odometer <= 350000 and '\n",
    "                                'cylinders in (4, 6, 8, 10) and '\n",
    "                                'condition in (1,2,3,4)')"
   ]
  },
  {
   "cell_type": "code",
   "execution_count": 38,
   "metadata": {},
   "outputs": [],
   "source": [
    "#storing outliers in a separate DataFrame\n",
    "data_outliers = data_vehicles[~data_vehicles.index.isin(good_data.index)]"
   ]
  },
  {
   "cell_type": "code",
   "execution_count": 39,
   "metadata": {},
   "outputs": [
    {
     "name": "stdout",
     "output_type": "stream",
     "text": [
      "<class 'pandas.core.frame.DataFrame'>\n",
      "Int64Index: 710 entries, 53 to 51521\n",
      "Data columns (total 18 columns):\n",
      "price               710 non-null int64\n",
      "model_year          710 non-null int64\n",
      "model               710 non-null object\n",
      "condition           710 non-null int64\n",
      "cylinders           710 non-null int64\n",
      "fuel                710 non-null object\n",
      "odometer            710 non-null int64\n",
      "transmission        710 non-null object\n",
      "type                710 non-null object\n",
      "paint_color         710 non-null object\n",
      "is_4wd              710 non-null bool\n",
      "date_posted         710 non-null datetime64[ns]\n",
      "days_listed         710 non-null int64\n",
      "weekday             710 non-null int64\n",
      "month               710 non-null int64\n",
      "year                710 non-null int64\n",
      "vehicle_age         710 non-null int64\n",
      "mileage_per_year    710 non-null int64\n",
      "dtypes: bool(1), datetime64[ns](1), int64(11), object(5)\n",
      "memory usage: 100.5+ KB\n"
     ]
    }
   ],
   "source": [
    "data_outliers.info()"
   ]
  },
  {
   "cell_type": "code",
   "execution_count": 40,
   "metadata": {},
   "outputs": [
    {
     "name": "stdout",
     "output_type": "stream",
     "text": [
      "<class 'pandas.core.frame.DataFrame'>\n",
      "Int64Index: 29206 entries, 2 to 51523\n",
      "Data columns (total 18 columns):\n",
      "price               29206 non-null int64\n",
      "model_year          29206 non-null int64\n",
      "model               29206 non-null object\n",
      "condition           29206 non-null int64\n",
      "cylinders           29206 non-null int64\n",
      "fuel                29206 non-null object\n",
      "odometer            29206 non-null int64\n",
      "transmission        29206 non-null object\n",
      "type                29206 non-null object\n",
      "paint_color         29206 non-null object\n",
      "is_4wd              29206 non-null bool\n",
      "date_posted         29206 non-null datetime64[ns]\n",
      "days_listed         29206 non-null int64\n",
      "weekday             29206 non-null int64\n",
      "month               29206 non-null int64\n",
      "year                29206 non-null int64\n",
      "vehicle_age         29206 non-null int64\n",
      "mileage_per_year    29206 non-null int64\n",
      "dtypes: bool(1), datetime64[ns](1), int64(11), object(5)\n",
      "memory usage: 4.0+ MB\n"
     ]
    }
   ],
   "source": [
    "good_data.info()"
   ]
  },
  {
   "cell_type": "code",
   "execution_count": 41,
   "metadata": {
    "scrolled": true
   },
   "outputs": [
    {
     "data": {
      "image/png": "[encoded data removed]",
      "text/plain": [
       "<Figure size 432x288 with 1 Axes>"
      ]
     },
     "metadata": {
      "needs_background": "light"
     },
     "output_type": "display_data"
    }
   ],
   "source": [
    "data_vehicles['price'].plot(kind='hist', bins=100, range=(0,100000), color='red')\n",
    "good_data['price'].plot(kind='hist', bins=100, range=(0,100000), color='blue')\n",
    "plt.xlabel('Price')\n",
    "plt.title('Comparison histograms of price')\n",
    "plt.show( )"
   ]
  },
  {
   "cell_type": "markdown",
   "metadata": {},
   "source": [
    "The differences between the charts are not significant, the number of ads has slightly decreased for all price categories, and there are no ads with too high a price on the new histogram."
   ]
  },
  {
   "cell_type": "code",
   "execution_count": 42,
   "metadata": {
    "scrolled": true
   },
   "outputs": [
    {
     "data": {
      "image/png": "[encoded data removed]",
      "text/plain": [
       "<Figure size 432x288 with 1 Axes>"
      ]
     },
     "metadata": {
      "needs_background": "light"
     },
     "output_type": "display_data"
    }
   ],
   "source": [
    "data_vehicles['vehicle_age'].plot(kind='hist', bins=100, range=(0,60), color='red')\n",
    "good_data['vehicle_age'].plot(kind='hist', bins=100, range=(0,60), color='blue')\n",
    "plt.xlabel('Vehicle_age')\n",
    "plt.title('Comparison histograms of vehicle\\'s age')\n",
    "plt.show( )"
   ]
  },
  {
   "cell_type": "markdown",
   "metadata": {},
   "source": [
    "The histogram turned out to be smoother and there is no \"long tail\" in the form of rare ads for the sale of very old vehicles."
   ]
  },
  {
   "cell_type": "code",
   "execution_count": 43,
   "metadata": {
    "scrolled": true
   },
   "outputs": [
    {
     "data": {
      "image/png": "[encoded data removed]",
      "text/plain": [
       "<Figure size 432x288 with 1 Axes>"
      ]
     },
     "metadata": {
      "needs_background": "light"
     },
     "output_type": "display_data"
    }
   ],
   "source": [
    "data_vehicles['odometer'].plot(kind='hist', bins=100, range=(0,500000), color='red')\n",
    "good_data['odometer'].plot(kind='hist', bins=100, range=(0,500000), color='blue')\n",
    "plt.xlabel('Odometer')\n",
    "plt.title('Comparison histograms of odometer')\n",
    "plt.show( )"
   ]
  },
  {
   "cell_type": "markdown",
   "metadata": {},
   "source": [
    "On the new histogram in comparison with the old one, the number of ads with zero odometer decreased and too high values were cut off."
   ]
  },
  {
   "cell_type": "code",
   "execution_count": 44,
   "metadata": {
    "scrolled": true
   },
   "outputs": [
    {
     "data": {
      "image/png": "[encoded data removed]",
      "text/plain": [
       "<Figure size 432x288 with 1 Axes>"
      ]
     },
     "metadata": {
      "needs_background": "light"
     },
     "output_type": "display_data"
    }
   ],
   "source": [
    "data_vehicles['cylinders'].plot(kind='hist', bins=9, color='red')\n",
    "good_data['cylinders'].plot(kind='hist', bins=9, color='blue')\n",
    "plt.xlabel('Cylinders')\n",
    "plt.title('Comparison histograms of cylinder\"s amount')\n",
    "plt.show( )"
   ]
  },
  {
   "cell_type": "code",
   "execution_count": 45,
   "metadata": {
    "scrolled": true
   },
   "outputs": [
    {
     "data": {
      "image/png": "[encoded data removed]",
      "text/plain": [
       "<Figure size 432x288 with 1 Axes>"
      ]
     },
     "metadata": {
      "needs_background": "light"
     },
     "output_type": "display_data"
    }
   ],
   "source": [
    "data_vehicles['condition'].plot(kind='hist', bins=6, color='red')\n",
    "good_data['condition'].plot(kind='hist', bins=6, color='blue')\n",
    "plt.xlabel('Condition')\n",
    "plt.title('Comparison histograms of vehicle\"s condition')\n",
    "plt.show( )"
   ]
  },
  {
   "cell_type": "markdown",
   "metadata": {},
   "source": [
    "<div class=\"alert alert-success\">\n",
    "<h3>Reviewer's comment</h3>\n",
    "    \n",
    "Your choice of visualization type and stategy to deal with outliers are correct. It would be great if you tried to automate all the procedures in the future 👍🏻"
   ]
  },
  {
   "cell_type": "code",
   "execution_count": 46,
   "metadata": {
    "scrolled": true
   },
   "outputs": [
    {
     "data": {
      "text/plain": [
       "count    29206.000000\n",
       "mean        39.650380\n",
       "std         28.134561\n",
       "min          0.000000\n",
       "25%         19.000000\n",
       "50%         33.000000\n",
       "75%         54.000000\n",
       "max        267.000000\n",
       "Name: days_listed, dtype: float64"
      ]
     },
     "execution_count": 46,
     "metadata": {},
     "output_type": "execute_result"
    }
   ],
   "source": [
    "#describing parameter days_listed\n",
    "good_data['days_listed'].describe()"
   ]
  },
  {
   "cell_type": "markdown",
   "metadata": {},
   "source": [
    "The minimum ad was shown for less than a day. The maximum number of days to publish an ad was 267 days. On average, an advertisement for the sale of a vehicle is published for 40 days. Average deviates to the right."
   ]
  },
  {
   "cell_type": "code",
   "execution_count": 47,
   "metadata": {
    "scrolled": true
   },
   "outputs": [
    {
     "data": {
      "image/png": "[encoded data removed]",
      "text/plain": [
       "<Figure size 432x288 with 1 Axes>"
      ]
     },
     "metadata": {
      "needs_background": "light"
     },
     "output_type": "display_data"
    }
   ],
   "source": [
    "good_data['days_listed'].hist()\n",
    "plt.ylabel('Frequency')\n",
    "plt.xlabel('Days listed')\n",
    "plt.title('Histogram of days listed')\n",
    "plt.show( )"
   ]
  },
  {
   "cell_type": "markdown",
   "metadata": {},
   "source": [
    "Most ads were displayed between 0 and 50 days."
   ]
  },
  {
   "cell_type": "code",
   "execution_count": 48,
   "metadata": {},
   "outputs": [
    {
     "name": "stdout",
     "output_type": "stream",
     "text": [
      "Mean value of days_listed is 40.0\n"
     ]
    }
   ],
   "source": [
    "good_data_mean = round(good_data['days_listed'].mean(), 0)\n",
    "print('Mean value of days_listed is {}'.format(good_data_mean))"
   ]
  },
  {
   "cell_type": "code",
   "execution_count": 49,
   "metadata": {},
   "outputs": [
    {
     "name": "stdout",
     "output_type": "stream",
     "text": [
      "Median value of days_listed is 33.0\n"
     ]
    }
   ],
   "source": [
    "good_data_median = round(good_data['days_listed'].median(), 0)\n",
    "print('Median value of days_listed is {}'.format(good_data_median))"
   ]
  },
  {
   "cell_type": "markdown",
   "metadata": {},
   "source": [
    "<div class=\"alert alert-success\">\n",
    "<h3>Reviewer's comment</h3>\n",
    "    \n",
    "You conducted a comprehensive analysis and drew some useful counclusions 👍🏻"
   ]
  },
  {
   "cell_type": "code",
   "execution_count": 50,
   "metadata": {},
   "outputs": [
    {
     "data": {
      "image/png": "[encoded data removed]",
      "text/plain": [
       "<Figure size 432x288 with 1 Axes>"
      ]
     },
     "metadata": {
      "needs_background": "light"
     },
     "output_type": "display_data"
    }
   ],
   "source": [
    "good_data.groupby(\"model_year\")['days_listed'].mean().plot()\n",
    "plt.ylabel('Days listed')\n",
    "plt.title('Dependence graph of the average advertising time')\n",
    "plt.show( )"
   ]
  },
  {
   "cell_type": "markdown",
   "metadata": {},
   "source": [
    "Since 2000, ads have shown a number of days close to the average. Older vehicles had different peaks: sometimes the ads were removed quickly, and sometimes they were listed for an abnormally long time."
   ]
  },
  {
   "cell_type": "code",
   "execution_count": 51,
   "metadata": {},
   "outputs": [
    {
     "data": {
      "image/png": "[encoded data removed]",
      "text/plain": [
       "<Figure size 432x288 with 1 Axes>"
      ]
     },
     "metadata": {
      "needs_background": "light"
     },
     "output_type": "display_data"
    }
   ],
   "source": [
    "good_data.boxplot(column='days_listed')\n",
    "plt.title('Box-and-whisker chart of days listed')\n",
    "plt.show()"
   ]
  },
  {
   "cell_type": "code",
   "execution_count": 52,
   "metadata": {},
   "outputs": [
    {
     "data": {
      "image/png": "[encoded data removed]",
      "text/plain": [
       "<Figure size 432x288 with 1 Axes>"
      ]
     },
     "metadata": {
      "needs_background": "light"
     },
     "output_type": "display_data"
    }
   ],
   "source": [
    "good_data.groupby(\"type\")['days_listed'].mean().plot(kind='bar')\n",
    "plt.title('Bar chart of average days listed in dependence on vehicle\"s type')\n",
    "plt.ylabel('average days listed')\n",
    "plt.show()"
   ]
  },
  {
   "cell_type": "code",
   "execution_count": 53,
   "metadata": {},
   "outputs": [
    {
     "data": {
      "text/plain": [
       "model\n",
       "ford econoline      49.666667\n",
       "ford explorer       18.666667\n",
       "hyundai santa fe    74.000000\n",
       "Name: days_listed, dtype: float64"
      ]
     },
     "execution_count": 53,
     "metadata": {},
     "output_type": "execute_result"
    }
   ],
   "source": [
    "good_data.query('type == \"bus\"').groupby('model')['days_listed'].mean().head(10)"
   ]
  },
  {
   "cell_type": "markdown",
   "metadata": {},
   "source": [
    "It can be concluded that the ads for the sale of buses were shown on average longer than the sale of other vehicles. In particular, the ads of the sale hyundai santa fe hung harmful for almost twice as long."
   ]
  },
  {
   "cell_type": "code",
   "execution_count": 54,
   "metadata": {},
   "outputs": [
    {
     "data": {
      "text/plain": [
       "type\n",
       "SUV             97066.413793\n",
       "convertible       162.000000\n",
       "coupe          102755.000000\n",
       "hatchback      143687.000000\n",
       "mini-van       137700.000000\n",
       "offroad        116625.000000\n",
       "pickup         114511.937500\n",
       "sedan          124026.040000\n",
       "truck          118565.107143\n",
       "van            134800.000000\n",
       "wagon          135839.714286\n",
       "Name: odometer, dtype: float64"
      ]
     },
     "execution_count": 54,
     "metadata": {},
     "output_type": "execute_result"
    }
   ],
   "source": [
    "good_data.query('days_listed <= 1').groupby('type')['odometer'].mean().head(20)"
   ]
  },
  {
   "cell_type": "markdown",
   "metadata": {},
   "source": [
    "All ads which were displayed less then 1 day was about vehicles with mileage of about 100000 km and more, excepting for convertibles."
   ]
  },
  {
   "cell_type": "code",
   "execution_count": 55,
   "metadata": {},
   "outputs": [
    {
     "data": {
      "text/html": [
       "<div>\n",
       "<style scoped>\n",
       "    .dataframe tbody tr th:only-of-type {\n",
       "        vertical-align: middle;\n",
       "    }\n",
       "\n",
       "    .dataframe tbody tr th {\n",
       "        vertical-align: top;\n",
       "    }\n",
       "\n",
       "    .dataframe thead th {\n",
       "        text-align: right;\n",
       "    }\n",
       "</style>\n",
       "<table border=\"1\" class=\"dataframe\">\n",
       "  <thead>\n",
       "    <tr style=\"text-align: right;\">\n",
       "      <th></th>\n",
       "      <th>ads_count</th>\n",
       "    </tr>\n",
       "    <tr>\n",
       "      <th>type</th>\n",
       "      <th></th>\n",
       "    </tr>\n",
       "  </thead>\n",
       "  <tbody>\n",
       "    <tr>\n",
       "      <td>SUV</td>\n",
       "      <td>7121</td>\n",
       "    </tr>\n",
       "    <tr>\n",
       "      <td>bus</td>\n",
       "      <td>16</td>\n",
       "    </tr>\n",
       "    <tr>\n",
       "      <td>convertible</td>\n",
       "      <td>243</td>\n",
       "    </tr>\n",
       "    <tr>\n",
       "      <td>coupe</td>\n",
       "      <td>1256</td>\n",
       "    </tr>\n",
       "    <tr>\n",
       "      <td>hatchback</td>\n",
       "      <td>568</td>\n",
       "    </tr>\n",
       "    <tr>\n",
       "      <td>mini-van</td>\n",
       "      <td>670</td>\n",
       "    </tr>\n",
       "    <tr>\n",
       "      <td>offroad</td>\n",
       "      <td>130</td>\n",
       "    </tr>\n",
       "    <tr>\n",
       "      <td>other</td>\n",
       "      <td>140</td>\n",
       "    </tr>\n",
       "    <tr>\n",
       "      <td>pickup</td>\n",
       "      <td>3899</td>\n",
       "    </tr>\n",
       "    <tr>\n",
       "      <td>sedan</td>\n",
       "      <td>6798</td>\n",
       "    </tr>\n",
       "    <tr>\n",
       "      <td>truck</td>\n",
       "      <td>7140</td>\n",
       "    </tr>\n",
       "    <tr>\n",
       "      <td>van</td>\n",
       "      <td>327</td>\n",
       "    </tr>\n",
       "    <tr>\n",
       "      <td>wagon</td>\n",
       "      <td>898</td>\n",
       "    </tr>\n",
       "  </tbody>\n",
       "</table>\n",
       "</div>"
      ],
      "text/plain": [
       "             ads_count\n",
       "type                  \n",
       "SUV               7121\n",
       "bus                 16\n",
       "convertible        243\n",
       "coupe             1256\n",
       "hatchback          568\n",
       "mini-van           670\n",
       "offroad            130\n",
       "other              140\n",
       "pickup            3899\n",
       "sedan             6798\n",
       "truck             7140\n",
       "van                327\n",
       "wagon              898"
      ]
     },
     "execution_count": 55,
     "metadata": {},
     "output_type": "execute_result"
    }
   ],
   "source": [
    "#Analyzing the number of ads\n",
    "vehicles_number_ads_by_type = good_data.pivot_table(index='type', values='price', aggfunc='count')\n",
    "vehicles_number_ads_by_type.columns = ['ads_count']\n",
    "vehicles_number_ads_by_type.head(15)"
   ]
  },
  {
   "cell_type": "code",
   "execution_count": 56,
   "metadata": {},
   "outputs": [
    {
     "data": {
      "image/png": "[encoded data removed]",
      "text/plain": [
       "<Figure size 432x288 with 1 Axes>"
      ]
     },
     "metadata": {
      "needs_background": "light"
     },
     "output_type": "display_data"
    }
   ],
   "source": [
    "vehicles_number_ads_by_type['ads_count'].plot.bar()\n",
    "plt.title('The number of ads for each type of vehicles')\n",
    "plt.ylabel('number of ads')\n",
    "plt.show()"
   ]
  },
  {
   "cell_type": "markdown",
   "metadata": {},
   "source": [
    "The most numbers of ads of SUVs and trucks vehicles."
   ]
  },
  {
   "cell_type": "code",
   "execution_count": 57,
   "metadata": {},
   "outputs": [
    {
     "data": {
      "text/html": [
       "<div>\n",
       "<style scoped>\n",
       "    .dataframe tbody tr th:only-of-type {\n",
       "        vertical-align: middle;\n",
       "    }\n",
       "\n",
       "    .dataframe tbody tr th {\n",
       "        vertical-align: top;\n",
       "    }\n",
       "\n",
       "    .dataframe thead th {\n",
       "        text-align: right;\n",
       "    }\n",
       "</style>\n",
       "<table border=\"1\" class=\"dataframe\">\n",
       "  <thead>\n",
       "    <tr style=\"text-align: right;\">\n",
       "      <th></th>\n",
       "      <th>price</th>\n",
       "    </tr>\n",
       "    <tr>\n",
       "      <th>type</th>\n",
       "      <th></th>\n",
       "    </tr>\n",
       "  </thead>\n",
       "  <tbody>\n",
       "    <tr>\n",
       "      <td>SUV</td>\n",
       "      <td>11317.12</td>\n",
       "    </tr>\n",
       "    <tr>\n",
       "      <td>bus</td>\n",
       "      <td>17924.94</td>\n",
       "    </tr>\n",
       "    <tr>\n",
       "      <td>convertible</td>\n",
       "      <td>14322.46</td>\n",
       "    </tr>\n",
       "    <tr>\n",
       "      <td>coupe</td>\n",
       "      <td>14042.07</td>\n",
       "    </tr>\n",
       "    <tr>\n",
       "      <td>hatchback</td>\n",
       "      <td>6720.66</td>\n",
       "    </tr>\n",
       "    <tr>\n",
       "      <td>mini-van</td>\n",
       "      <td>8259.36</td>\n",
       "    </tr>\n",
       "    <tr>\n",
       "      <td>offroad</td>\n",
       "      <td>14402.44</td>\n",
       "    </tr>\n",
       "    <tr>\n",
       "      <td>other</td>\n",
       "      <td>11058.39</td>\n",
       "    </tr>\n",
       "    <tr>\n",
       "      <td>pickup</td>\n",
       "      <td>16310.34</td>\n",
       "    </tr>\n",
       "    <tr>\n",
       "      <td>sedan</td>\n",
       "      <td>7005.35</td>\n",
       "    </tr>\n",
       "    <tr>\n",
       "      <td>truck</td>\n",
       "      <td>16683.41</td>\n",
       "    </tr>\n",
       "    <tr>\n",
       "      <td>van</td>\n",
       "      <td>9249.26</td>\n",
       "    </tr>\n",
       "    <tr>\n",
       "      <td>wagon</td>\n",
       "      <td>8844.07</td>\n",
       "    </tr>\n",
       "  </tbody>\n",
       "</table>\n",
       "</div>"
      ],
      "text/plain": [
       "                price\n",
       "type                 \n",
       "SUV          11317.12\n",
       "bus          17924.94\n",
       "convertible  14322.46\n",
       "coupe        14042.07\n",
       "hatchback     6720.66\n",
       "mini-van      8259.36\n",
       "offroad      14402.44\n",
       "other        11058.39\n",
       "pickup       16310.34\n",
       "sedan         7005.35\n",
       "truck        16683.41\n",
       "van           9249.26\n",
       "wagon         8844.07"
      ]
     },
     "execution_count": 57,
     "metadata": {},
     "output_type": "execute_result"
    }
   ],
   "source": [
    "# Analyzing the average price for each type of vehicle\n",
    "vehicles_mean_price_by_type = round(data_vehicles.pivot_table(index='type', values='price'), 2)\n",
    "vehicles_mean_price_by_type.head(15)"
   ]
  },
  {
   "cell_type": "code",
   "execution_count": 58,
   "metadata": {},
   "outputs": [
    {
     "data": {
      "image/png": "[encoded data removed]",
      "text/plain": [
       "<Figure size 432x288 with 1 Axes>"
      ]
     },
     "metadata": {
      "needs_background": "light"
     },
     "output_type": "display_data"
    }
   ],
   "source": [
    "vehicles_mean_price_by_type['price'].plot.bar()\n",
    "plt.title('Average price for each type of vehicle')\n",
    "plt.ylabel('average price')\n",
    "plt.show()"
   ]
  },
  {
   "cell_type": "markdown",
   "metadata": {},
   "source": [
    "The most expensive type of vehicles is bus and the cheapest is hatchback."
   ]
  },
  {
   "cell_type": "markdown",
   "metadata": {},
   "source": [
    "<div class=\"alert alert-success\">\n",
    "<h3>Reviewer's comment</h3>\n",
    "    \n",
    "Well done 👍🏻\n",
    "    \n",
    "I appreciate the way you completed this step. Very thorough analysis!"
   ]
  },
  {
   "cell_type": "code",
   "execution_count": 59,
   "metadata": {},
   "outputs": [
    {
     "data": {
      "image/png": "[encoded data removed]",
      "text/plain": [
       "<Figure size 432x288 with 1 Axes>"
      ]
     },
     "metadata": {
      "needs_background": "light"
     },
     "output_type": "display_data"
    }
   ],
   "source": [
    "#Analyzing whether the price depends on condition of SUV vehicles\n",
    "suv_mean_price_by_condition = data_vehicles.query('type == \"SUV\"').pivot_table(index = 'condition', values = 'price')\n",
    "suv_mean_price_by_condition_plot = suv_mean_price_by_condition['price'].plot.bar()\n",
    "suv_mean_price_by_condition_plot.set_title('Price dependence on condition of SUV vehicles')\n",
    "plt.ylabel('average price')\n",
    "plt.show()"
   ]
  },
  {
   "cell_type": "markdown",
   "metadata": {},
   "source": [
    "There is a direct relationship between the condition of the SUV vehicle and its price, which is obvious. So the better the condition of the vehicle, the more expensive it is."
   ]
  },
  {
   "cell_type": "code",
   "execution_count": 60,
   "metadata": {},
   "outputs": [
    {
     "data": {
      "image/png": "[encoded data removed]",
      "text/plain": [
       "<Figure size 432x288 with 1 Axes>"
      ]
     },
     "metadata": {
      "needs_background": "light"
     },
     "output_type": "display_data"
    }
   ],
   "source": [
    "#Plotting scatterplot\n",
    "data_vehicles.query('type == \"SUV\"').plot(x='condition', y='price', kind='scatter')\n",
    "plt.title('Scatterplot of price dependence on condition of SUV vehicles')\n",
    "plt.show()"
   ]
  },
  {
   "cell_type": "code",
   "execution_count": 61,
   "metadata": {},
   "outputs": [
    {
     "data": {
      "image/png": "[encoded data removed]",
      "text/plain": [
       "<Figure size 432x288 with 1 Axes>"
      ]
     },
     "metadata": {
      "needs_background": "light"
     },
     "output_type": "display_data"
    }
   ],
   "source": [
    "#Analyzing whether the price depends on condition of truck vehicles\n",
    "truck_mean_price_by_condition = data_vehicles.query('type == \"truck\"').pivot_table(index = 'condition', values = 'price')\n",
    "truck_mean_price_by_condition_plot = truck_mean_price_by_condition['price'].plot.bar()\n",
    "truck_mean_price_by_condition_plot.set_title('Price dependence on condition of truck vehicles')\n",
    "plt.ylabel('average price')\n",
    "plt.show()"
   ]
  },
  {
   "cell_type": "markdown",
   "metadata": {},
   "source": [
    "There is also a relationship between the condition of the truck vehicle and its price, the better the more expensive. But there is a slightly non-standard situation that truck vehicles in salvage condition (0) are more expensive than in fair condition (1). Most likely this can be explained by the fact that initially the cost of the truck vehicles were significantly different. And it is possible that much more expensive models are in salvage condition, then in fair condition. "
   ]
  },
  {
   "cell_type": "code",
   "execution_count": 62,
   "metadata": {},
   "outputs": [
    {
     "data": {
      "image/png": "[encoded data removed]",
      "text/plain": [
       "<Figure size 432x288 with 1 Axes>"
      ]
     },
     "metadata": {
      "needs_background": "light"
     },
     "output_type": "display_data"
    }
   ],
   "source": [
    "#Plotting scatterplot\n",
    "data_vehicles.query('type == \"truck\"').plot(x='condition', y='price', kind='scatter')\n",
    "plt.title('Scatterplot of Price dependence on condition of truck vehicles')\n",
    "plt.show()"
   ]
  },
  {
   "cell_type": "code",
   "execution_count": 63,
   "metadata": {},
   "outputs": [
    {
     "data": {
      "image/png": "[encoded data removed]",
      "text/plain": [
       "<Figure size 432x288 with 1 Axes>"
      ]
     },
     "metadata": {
      "needs_background": "light"
     },
     "output_type": "display_data"
    }
   ],
   "source": [
    "#Analyzing whether the price depends on paint_color of SUV vehicles\n",
    "suv_mean_price_by_paint = data_vehicles.query('type == \"SUV\"').pivot_table(index = 'paint_color', values = 'price')\n",
    "suv_mean_price_by_paint_plot = suv_mean_price_by_paint['price'].plot.bar()\n",
    "suv_mean_price_by_paint_plot.set_title('Price dependence on colour of SUV vehicles')\n",
    "plt.ylabel('average price')\n",
    "plt.show()"
   ]
  },
  {
   "cell_type": "markdown",
   "metadata": {},
   "source": [
    "Most likely, the color affects the value of the vehicle, but there is no definite relationship."
   ]
  },
  {
   "cell_type": "code",
   "execution_count": 64,
   "metadata": {},
   "outputs": [
    {
     "data": {
      "image/png": "[encoded data removed]",
      "text/plain": [
       "<Figure size 432x288 with 1 Axes>"
      ]
     },
     "metadata": {
      "needs_background": "light"
     },
     "output_type": "display_data"
    }
   ],
   "source": [
    "#ploting box-and-whisker chart\n",
    "suv_mean_price_by_paint.boxplot()\n",
    "plt.title('Boxplot of price dependence on colour of SUV vehicles')\n",
    "plt.show()"
   ]
  },
  {
   "cell_type": "code",
   "execution_count": 65,
   "metadata": {},
   "outputs": [
    {
     "data": {
      "image/png": "[encoded data removed]",
      "text/plain": [
       "<Figure size 432x288 with 1 Axes>"
      ]
     },
     "metadata": {
      "needs_background": "light"
     },
     "output_type": "display_data"
    }
   ],
   "source": [
    "#Analyzing whether the price depends on paint_color of truck vehicles\n",
    "truck_mean_price_by_paint = data_vehicles.query('type == \"truck\"').pivot_table(index = 'paint_color', values = 'price')\n",
    "truck_mean_price_by_paint_plot = truck_mean_price_by_paint['price'].plot.bar()\n",
    "truck_mean_price_by_paint_plot.set_title('Price dependence on colour of truck vehicles')\n",
    "plt.ylabel('average price')\n",
    "plt.show()"
   ]
  },
  {
   "cell_type": "markdown",
   "metadata": {},
   "source": [
    "Most likely, the color affects the value of the vehicle, but there is no definite relationship."
   ]
  },
  {
   "cell_type": "code",
   "execution_count": 66,
   "metadata": {},
   "outputs": [
    {
     "data": {
      "image/png": "[encoded data removed]",
      "text/plain": [
       "<Figure size 432x288 with 1 Axes>"
      ]
     },
     "metadata": {
      "needs_background": "light"
     },
     "output_type": "display_data"
    }
   ],
   "source": [
    "#ploting box-and-whisker chart\n",
    "truck_mean_price_by_paint.boxplot()\n",
    "plt.title('Boxplot of price dependence on colour of truck vehicles')\n",
    "plt.show()"
   ]
  },
  {
   "cell_type": "code",
   "execution_count": 67,
   "metadata": {},
   "outputs": [
    {
     "data": {
      "image/png": "[encoded data removed]",
      "text/plain": [
       "<Figure size 432x288 with 1 Axes>"
      ]
     },
     "metadata": {
      "needs_background": "light"
     },
     "output_type": "display_data"
    }
   ],
   "source": [
    "#Analyzing whether the price depends on transmission of SUV vehicles\n",
    "suv_mean_price_by_transmission = data_vehicles.query('type == \"SUV\"').pivot_table(index = 'transmission', values = 'price')\n",
    "suv_mean_price_by_transmission_plot = suv_mean_price_by_transmission['price'].plot.bar()\n",
    "suv_mean_price_by_transmission_plot.set_title('Price dependence on transmission of SUV vehicles')\n",
    "plt.ylabel('average price')\n",
    "plt.show()"
   ]
  },
  {
   "cell_type": "markdown",
   "metadata": {},
   "source": [
    "Manual transmission of SUV vehicles costs a litle bit more expensive."
   ]
  },
  {
   "cell_type": "code",
   "execution_count": 68,
   "metadata": {},
   "outputs": [
    {
     "data": {
      "image/png": "[encoded data removed]",
      "text/plain": [
       "<Figure size 432x288 with 1 Axes>"
      ]
     },
     "metadata": {
      "needs_background": "light"
     },
     "output_type": "display_data"
    }
   ],
   "source": [
    "#ploting box-and-whisker chart\n",
    "suv_mean_price_by_transmission.boxplot()\n",
    "plt.title('Boxplot of price dependence on transmission of SUV vehicles')\n",
    "plt.show()"
   ]
  },
  {
   "cell_type": "code",
   "execution_count": 69,
   "metadata": {},
   "outputs": [
    {
     "data": {
      "image/png": "[encoded data removed]",
      "text/plain": [
       "<Figure size 432x288 with 1 Axes>"
      ]
     },
     "metadata": {
      "needs_background": "light"
     },
     "output_type": "display_data"
    }
   ],
   "source": [
    "#Analyzing whether the price depends on transmission of truck vehicles\n",
    "truck_mean_price_by_transmission = data_vehicles.query('type == \"truck\"').pivot_table(index = 'transmission', values = 'price')\n",
    "truck_mean_price_by_transmission_plot = truck_mean_price_by_transmission['price'].plot.bar()\n",
    "truck_mean_price_by_transmission_plot.set_title('Price dependence on transmission of truck vehicles')\n",
    "plt.ylabel('average price')\n",
    "plt.show()"
   ]
  },
  {
   "cell_type": "markdown",
   "metadata": {},
   "source": [
    "The price of the truck vehicles with automatic transmission is significantly higher than with manual or others. "
   ]
  },
  {
   "cell_type": "code",
   "execution_count": 70,
   "metadata": {},
   "outputs": [
    {
     "data": {
      "image/png": "[encoded data removed]",
      "text/plain": [
       "<Figure size 432x288 with 1 Axes>"
      ]
     },
     "metadata": {
      "needs_background": "light"
     },
     "output_type": "display_data"
    }
   ],
   "source": [
    "#ploting box-and-whisker chart\n",
    "truck_mean_price_by_transmission.boxplot()\n",
    "plt.title('Boxplot of price dependence on transmission of truck vehicles')\n",
    "plt.show()"
   ]
  },
  {
   "cell_type": "code",
   "execution_count": 71,
   "metadata": {},
   "outputs": [
    {
     "data": {
      "image/png": "[encoded data removed]",
      "text/plain": [
       "<Figure size 432x288 with 1 Axes>"
      ]
     },
     "metadata": {
      "needs_background": "light"
     },
     "output_type": "display_data"
    }
   ],
   "source": [
    "data_vehicles['odometer'].hist()\n",
    "plt.title('Histogram of odometer')\n",
    "plt.xlabel('odometer')\n",
    "plt.ylabel('frequency')\n",
    "plt.show()"
   ]
  },
  {
   "cell_type": "code",
   "execution_count": 72,
   "metadata": {},
   "outputs": [],
   "source": [
    "#function for categorizing mileage\n",
    "def categorize_mileage(mileage):\n",
    "    if mileage < 50000:\n",
    "        return '0-50k miles'\n",
    "    if (mileage >= 50000) and (mileage < 100000):\n",
    "        return '50-100k miles'\n",
    "    if (mileage >= 100000) and (mileage < 150000):\n",
    "        return '100k-150k miles'\n",
    "    if (mileage >= 150000) and (mileage < 200000):\n",
    "        return '150k-200k miles'\n",
    "    if (mileage >= 200000):\n",
    "        return '>200k miles'"
   ]
  },
  {
   "cell_type": "code",
   "execution_count": 73,
   "metadata": {},
   "outputs": [],
   "source": [
    "#applying function\n",
    "data_vehicles['mileage_category'] = data_vehicles['odometer'].apply(categorize_mileage)"
   ]
  },
  {
   "cell_type": "code",
   "execution_count": 74,
   "metadata": {},
   "outputs": [
    {
     "data": {
      "image/png": "[encoded data removed]",
      "text/plain": [
       "<Figure size 432x288 with 1 Axes>"
      ]
     },
     "metadata": {
      "needs_background": "light"
     },
     "output_type": "display_data"
    }
   ],
   "source": [
    "#Analyzing whether the price depends on mileage_category of SUV vehicles\n",
    "suv_mean_price_by_mileage_category = data_vehicles.query('type == \"SUV\"').pivot_table(index = 'mileage_category', values = 'price')\n",
    "suv_mean_price_by_mileage_category_plot = suv_mean_price_by_mileage_category['price'].plot.bar(title='Price dependence on mileage category of SUV vehicles')\n",
    "plt.ylabel('average price')\n",
    "plt.show()"
   ]
  },
  {
   "cell_type": "markdown",
   "metadata": {},
   "source": [
    "The odometer of SUV vehicles influence on its price. The lower odometer the higher price."
   ]
  },
  {
   "cell_type": "code",
   "execution_count": 75,
   "metadata": {},
   "outputs": [
    {
     "data": {
      "image/png": "[encoded data removed]",
      "text/plain": [
       "<Figure size 432x288 with 1 Axes>"
      ]
     },
     "metadata": {
      "needs_background": "light"
     },
     "output_type": "display_data"
    }
   ],
   "source": [
    "#Plotting scatterplot\n",
    "data_vehicles.query('type == \"SUV\"').plot(x='odometer', y='price', kind='scatter', title='Scatterplot. Price dependence on mileage category of SUV vehicles')\n",
    "plt.show()"
   ]
  },
  {
   "cell_type": "code",
   "execution_count": 76,
   "metadata": {},
   "outputs": [
    {
     "data": {
      "image/png": "[encoded data removed]",
      "text/plain": [
       "<Figure size 432x288 with 1 Axes>"
      ]
     },
     "metadata": {
      "needs_background": "light"
     },
     "output_type": "display_data"
    }
   ],
   "source": [
    "#Analyzing whether the price depends on mileage_category of truck vehicles\n",
    "truck_mean_price_by_mileage_category = data_vehicles.query('type == \"truck\"').pivot_table(index = 'mileage_category', values = 'price')\n",
    "truck_mean_price_by_mileage_category_plot = suv_mean_price_by_mileage_category['price'].plot.bar(title='Price dependence on mileage category of truck vehicles')\n",
    "plt.ylabel('average price')\n",
    "plt.show()"
   ]
  },
  {
   "cell_type": "markdown",
   "metadata": {},
   "source": [
    "The odometer of truck vehicles influence on its price. The lower odometer the higher price."
   ]
  },
  {
   "cell_type": "code",
   "execution_count": 77,
   "metadata": {},
   "outputs": [
    {
     "data": {
      "image/png": "[encoded data removed]",
      "text/plain": [
       "<Figure size 432x288 with 1 Axes>"
      ]
     },
     "metadata": {
      "needs_background": "light"
     },
     "output_type": "display_data"
    }
   ],
   "source": [
    "#Plotting scatterplot\n",
    "data_vehicles.query('type == \"truck\"').plot(x='odometer', y='price', kind='scatter', title='Scatterplot. Price dependence on mileage category of truck vehicles')\n",
    "plt.show()"
   ]
  },
  {
   "cell_type": "code",
   "execution_count": 78,
   "metadata": {},
   "outputs": [
    {
     "data": {
      "image/png": "[encoded data removed]",
      "text/plain": [
       "<Figure size 432x288 with 1 Axes>"
      ]
     },
     "metadata": {
      "needs_background": "light"
     },
     "output_type": "display_data"
    }
   ],
   "source": [
    "data_vehicles['vehicle_age'].hist()\n",
    "plt.title('Histogram of vehicle\\'s age')\n",
    "plt.xlabel('vehicle_age')\n",
    "plt.ylabel('frequency')\n",
    "plt.show()"
   ]
  },
  {
   "cell_type": "code",
   "execution_count": 79,
   "metadata": {},
   "outputs": [],
   "source": [
    "#function for categorizing age\n",
    "def age_of_vehicle(age):\n",
    "    if age < 10:\n",
    "        return '0-10 years'\n",
    "    if (age >= 10) and (age < 20):\n",
    "        return '10-20 years'\n",
    "    if (age >= 20) and (age < 30):\n",
    "        return '20-30 years'\n",
    "    if (age >= 30) and (age < 40):\n",
    "        return '30-40 years'\n",
    "    if (age >= 40):\n",
    "        return '>40 years'"
   ]
  },
  {
   "cell_type": "code",
   "execution_count": 80,
   "metadata": {},
   "outputs": [],
   "source": [
    "#applying function\n",
    "data_vehicles['age_category'] = data_vehicles['vehicle_age'].apply(age_of_vehicle)"
   ]
  },
  {
   "cell_type": "code",
   "execution_count": 81,
   "metadata": {},
   "outputs": [
    {
     "data": {
      "image/png": "[encoded data removed]",
      "text/plain": [
       "<Figure size 432x288 with 1 Axes>"
      ]
     },
     "metadata": {
      "needs_background": "light"
     },
     "output_type": "display_data"
    }
   ],
   "source": [
    "#Analyzing whether the price depends on age_category of SUV vehicles\n",
    "suv_mean_price_by_age_category = data_vehicles.query('type == \"SUV\"').pivot_table(index = 'age_category', values = 'price')\n",
    "suv_mean_price_by_age_category_plot = suv_mean_price_by_age_category['price'].plot.bar()\n",
    "suv_mean_price_by_age_category_plot.set_title('Price dependence on age category of SUV vehicles')\n",
    "plt.ylabel('price')\n",
    "plt.show()"
   ]
  },
  {
   "cell_type": "markdown",
   "metadata": {},
   "source": [
    "The price depends on age of the SUV vehicle. As a rule, the younger the vehicle, the more expensive it is. However on the histgram vehicles older than 40 years cost more expensive than vehicles from 10 to 20 years. Maybe these are rare vehicles."
   ]
  },
  {
   "cell_type": "code",
   "execution_count": 82,
   "metadata": {},
   "outputs": [
    {
     "data": {
      "image/png": "[encoded data removed]",
      "text/plain": [
       "<Figure size 432x288 with 1 Axes>"
      ]
     },
     "metadata": {
      "needs_background": "light"
     },
     "output_type": "display_data"
    }
   ],
   "source": [
    "#Plotting scatterplot\n",
    "data_vehicles.query('type == \"SUV\"').plot(x='vehicle_age', y='price', kind='scatter')\n",
    "plt.title('Scatterplot. Price dependence on age category of SUV vehicles')\n",
    "plt.show()"
   ]
  },
  {
   "cell_type": "code",
   "execution_count": 83,
   "metadata": {},
   "outputs": [
    {
     "data": {
      "image/png": "[encoded data removed]",
      "text/plain": [
       "<Figure size 432x288 with 1 Axes>"
      ]
     },
     "metadata": {
      "needs_background": "light"
     },
     "output_type": "display_data"
    }
   ],
   "source": [
    "#Analyzing whether the price depends on age_category of truck vehicles\n",
    "truck_mean_price_by_age_category = data_vehicles.query('type == \"truck\"').pivot_table(index='age_category', values = 'price')\n",
    "truck_mean_price_by_age_category_plot = truck_mean_price_by_age_category['price'].plot.bar()\n",
    "truck_mean_price_by_age_category_plot.set_title('Price dependence on age category of truck vehicles')\n",
    "plt.ylabel('price')\n",
    "plt.show()"
   ]
  },
  {
   "cell_type": "markdown",
   "metadata": {},
   "source": [
    "The price depends on age of the truck vehicle. As a rule, the younger the vehicle, the more expensive it is. However on the histgram vehicles older than 40 years cost more expensive than vehicles from 10 to 20 years. Maybe these are rare vehicles."
   ]
  },
  {
   "cell_type": "code",
   "execution_count": 84,
   "metadata": {},
   "outputs": [
    {
     "data": {
      "image/png": "[encoded data removed]",
      "text/plain": [
       "<Figure size 432x288 with 1 Axes>"
      ]
     },
     "metadata": {
      "needs_background": "light"
     },
     "output_type": "display_data"
    }
   ],
   "source": [
    "#Plotting scatterplot\n",
    "data_vehicles.query('type == \"truck\"').plot(x='vehicle_age', y='price', kind='scatter')\n",
    "plt.title('Scatterplot. Price dependence on age category of truck vehicles')\n",
    "plt.show()"
   ]
  },
  {
   "cell_type": "markdown",
   "metadata": {},
   "source": [
    "<div class=\"alert alert-success\">\n",
    "<h3>Reviewer's comment</h3>\n",
    "    \n",
    "Great analysis and aesthetic visualizations 👍🏻"
   ]
  },
  {
   "cell_type": "markdown",
   "metadata": {},
   "source": [
    "### Step 5. Overall conclusion <a class=\"anchor\" id=\"fifth-step\"></a>"
   ]
  },
  {
   "cell_type": "markdown",
   "metadata": {},
   "source": [
    "We analyzed a table consisting of 13 columns and 51525 lines. The condition of most vehicles was good or excellent. The shortest ad time was less than a day and the longest publishing period was 267 days. On average, an advertisement for the sale of a vehicle was published for 40 days. Average deviated to the right.\n",
    "It was striking that the ads for the sale of buses were shown on average longer than the sale of other vehicles. The biggest numbers of ads referred to SUVs and trucks vehicles.The most expensive type of vehicles was bus the cheapest one was hatchback. \n",
    "We also observed and stated a direct relationship between some important parameter and the price of the vehicle. For example such advantages as good condition of the price, automatic transmission, low odometer and young age of the vehicle essentially increased the price. \n",
    "At the same time we saw some interesting exceptions, like that manual transmission of SUV vehicles was a little bit more expensive or unique old vehicles (so-called “old-timer) were offered at very high price. \n",
    "Most likely it seemed, that the color affected the value of the vehicle as well, but there was no definitive relationship found. "
   ]
  },
  {
   "cell_type": "markdown",
   "metadata": {},
   "source": [
    "<div class=\"alert alert-success\">\n",
    "<h3>Reviewer's comment</h3>\n",
    "    \n",
    "The general impression after checking your project is very good! Well done 🔥"
   ]
  },
  {
   "cell_type": "markdown",
   "metadata": {},
   "source": [
    "### Project completion checklist\n",
    "\n",
    "Mark the completed tasks with 'x'. Then press Shift+Enter."
   ]
  },
  {
   "cell_type": "markdown",
   "metadata": {},
   "source": [
    "- [x]  file opened\n",
    "- [x]  files explored (first rows printed, info() method)\n",
    "- [x]  missing values determined\n",
    "- [x]  missing values filled in\n",
    "- [x]  clarification of the discovered missing values provided\n",
    "- [x]  data types converted\n",
    "- [x]  explanation of which columns had the data types changed and why\n",
    "- [x]  calculated and added to the table: day of the week, month, and year the ad was placed\n",
    "- [x]  calculated and added to the table: the vehicle's age (in years) when the ad was placed\n",
    "- [x]  calculated and added to the table: the vehicle's average mileage per year\n",
    "- [x]  the following parameters investigated: price, vehicle's age when the ad was placed, mileage, number of cylinders, and condition\n",
    "- [x]  histograms for each parameter created\n",
    "- [x]  task completed: \"Determine the upper limits of outliers, remove the outliers and store them in a separate DataFrame, and continue your work with the filtered data.\"\n",
    "- [x]  task completed: \"Use the filtered data to plot new histograms. Compare them with the earlier histograms (the ones that included outliers). Draw conclusions for each histogram.\"\n",
    "- [x]  task completed: \"Study how many days advertisements were displayed (days_listed). Plot a histogram. Calculate the mean and median. Describe the typical lifetime of an ad. Determine when ads were removed quickly, and when they were listed for an abnormally long time.  \"\n",
    "- [x]  task completed: \"Analyze the number of ads and the average price for each type of vehicle. Plot a graph showing the dependence of the number of ads on the vehicle type. Select the two types with the greatest number of ads. \"\n",
    "- [x]  task completed: \"What factors impact the price most? Take each of the popular types you detected at the previous stage and study whether the price depends on age, mileage, condition, transmission type, and color. For categorical variables (transmission type and color), plot box-and-whisker charts, and create scatterplots for the rest. When analyzing categorical variables, note that the categories must have at least 50 ads; otherwise, their parameters won't be valid for analysis.  \"\n",
    "- [x]  each stage has a conclusion\n",
    "- [x]  overall conclusion drawn"
   ]
  },
  {
   "cell_type": "markdown",
   "metadata": {},
   "source": [
    "<div style=\"border:solid black 2px; padding: 20px\">\n",
    "<h3>Checklist</h3> \n",
    "    \n",
    "Let's make your project truly awesome and work a little bit more on the following issues:\n",
    "\n",
    "1. **Move the text from code cells to markdown cells.**\n",
    "2. **Describe the factors that may have resulted in missing values.**\n",
    "3. **Think about the way to calculate average mileage per year one more time.**\n",
    "4. **Add titles and axes labels to the graphs.**\n",
    "\n",
    "\n",
    "Looking forward to seeing your perfect project next time! Be free to ask whatever questions you have. Good luck 🙂\n",
    "</div>"
   ]
  },
  {
   "cell_type": "code",
   "execution_count": null,
   "metadata": {},
   "outputs": [],
   "source": []
  }
 ],
 "metadata": {
  "kernelspec": {
   "display_name": "Python 3",
   "language": "python",
   "name": "python3"
  },
  "language_info": {
   "codemirror_mode": {
    "name": "ipython",
    "version": 3
   },
   "file_extension": ".py",
   "mimetype": "text/x-python",
   "name": "python",
   "nbconvert_exporter": "python",
   "pygments_lexer": "ipython3",
   "version": "3.8.8"
  },
  "toc": {
   "base_numbering": 1,
   "nav_menu": {},
   "number_sections": true,
   "sideBar": true,
   "skip_h1_title": true,
   "title_cell": "Table of Contents",
   "title_sidebar": "Contents",
   "toc_cell": false,
   "toc_position": {},
   "toc_section_display": true,
   "toc_window_display": false
  }
 },
 "nbformat": 4,
 "nbformat_minor": 2
}
